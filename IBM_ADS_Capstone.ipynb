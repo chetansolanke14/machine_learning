{
  "nbformat": 4,
  "nbformat_minor": 0,
  "metadata": {
    "colab": {
      "name": "Untitled0.ipynb",
      "version": "0.3.2",
      "provenance": [],
      "include_colab_link": true
    },
    "kernelspec": {
      "name": "python3",
      "display_name": "Python 3"
    }
  },
  "cells": [
    {
      "cell_type": "markdown",
      "metadata": {
        "id": "view-in-github",
        "colab_type": "text"
      },
      "source": [
        "<a href=\"https://colab.research.google.com/github/chetansolanke14/machine_learning/blob/master/IBM_ADS_Capstone.ipynb\" target=\"_parent\"><img src=\"https://colab.research.google.com/assets/colab-badge.svg\" alt=\"Open In Colab\"/></a>"
      ]
    },
    {
      "metadata": {
        "id": "2oQnrtaxVcQ_",
        "colab_type": "text"
      },
      "cell_type": "markdown",
      "source": [
        "#IBM Coursera Advanced Data Science Capstone\n",
        "\n",
        "Sentiment Analysis on IMDB Movie Review\n",
        "\n",
        "A sentiment analysis is a done on data to predict what is a users sentiment among a list of given items whether it is positive or negative. In some sense, you can view this as an alternative to content search, as sentiment analysis help users discover products or content that they may not come across otherwise. With the rise of online social media platforms like Twitter, Facebook and Reddit, and the proliferation of customer reviews on sites like Amazon and Yelp, we now have access, more than ever before, to massive text-based data sets! They can be analyzed in order to determine how large portions of the population feel about certain products, events, etc. This sort of analysis is called sentiment analysis. \n",
        "\n",
        "In this notebook  I demonstrate how to build a simple sentiment classification system from scratch.\n",
        "\n",
        "###Goals\n",
        "\n",
        "In this notebook, I expect to:\n",
        "\n",
        "Learn sentiment analysis algorithms using Keras,SKLearn libraries\n",
        "\n",
        "Understand the negative and positive sentiment classification\n",
        "\n",
        "Understand GaussanNB, Gradient Boosting and RNN (LSTM)\n",
        "\n",
        "Understand how to validate the results\n"
      ]
    },
    {
      "metadata": {
        "id": "cgqKgIXGVOUm",
        "colab_type": "text"
      },
      "cell_type": "markdown",
      "source": [
        "\n",
        "\n",
        "###Step 1: Initial data exploration\n",
        "\n",
        "In order to choose or design a suitable algorithm for achieving our goals, given the data we have, we should first understand data characteristics. To start, we import the necessary packages to work with regular expressions, Data Frames, and other nice features of our programming environment.\n",
        "\n",
        "The dataset we are going to use is very popular among researchers in Natural Language Processing, usually referred to as the IMDb dataset. It consists of movie reviews from the website imdb.com, each labeled as either 'positive', if the reviewer enjoyed the film, or 'negative' otherwise.\n",
        "\n",
        "Maas, Andrew L., et al. Learning Word Vectors for Sentiment Analysis. In Proceedings of the 49th Annual Meeting of the Association for Computational Linguistics: Human Language Technologies. Association for Computational Linguistics, 2011.\n",
        "\n",
        "dataset is avaialble in below URL. \n",
        "\n",
        "http://ai.stanford.edu/~amaas/data/sentiment/aclImdb_v1.tar.gz\n",
        "\n",
        "\n"
      ]
    },
    {
      "metadata": {
        "id": "-WW3wMUaXee7",
        "colab_type": "text"
      },
      "cell_type": "markdown",
      "source": [
        "You can load it in by executing the Python cell below."
      ]
    },
    {
      "metadata": {
        "id": "y0iGY1nn2L0i",
        "colab_type": "code",
        "colab": {
          "base_uri": "https://localhost:8080/",
          "height": 207
        },
        "outputId": "bdae1064-ed0b-4eca-d564-728b527f0c00"
      },
      "cell_type": "code",
      "source": [
        "!mkdir data\n",
        "!mkdir data/imdb-reviews\n",
        "!wget http://ai.stanford.edu/~amaas/data/sentiment/aclImdb_v1.tar.gz"
      ],
      "execution_count": 3,
      "outputs": [
        {
          "output_type": "stream",
          "text": [
            "--2019-04-06 04:12:40--  http://ai.stanford.edu/~amaas/data/sentiment/aclImdb_v1.tar.gz\n",
            "Resolving ai.stanford.edu (ai.stanford.edu)... 171.64.68.10\n",
            "Connecting to ai.stanford.edu (ai.stanford.edu)|171.64.68.10|:80... connected.\n",
            "HTTP request sent, awaiting response... 200 OK\n",
            "Length: 84125825 (80M) [application/x-gzip]\n",
            "Saving to: ‘aclImdb_v1.tar.gz’\n",
            "\n",
            "aclImdb_v1.tar.gz   100%[===================>]  80.23M  21.6MB/s    in 4.3s    \n",
            "\n",
            "2019-04-06 04:12:45 (18.5 MB/s) - ‘aclImdb_v1.tar.gz’ saved [84125825/84125825]\n",
            "\n"
          ],
          "name": "stdout"
        }
      ]
    },
    {
      "metadata": {
        "id": "saqmqKFNXusR",
        "colab_type": "text"
      },
      "cell_type": "markdown",
      "source": [
        "As dataset is in tar gzip format use below command to unzip same.\n",
        "\n",
        "!tar xvzf  @file_name"
      ]
    },
    {
      "metadata": {
        "id": "dQjJaUfj2S9u",
        "colab_type": "code",
        "colab": {}
      },
      "cell_type": "code",
      "source": [
        "!tar xvzf aclImdb_v1.tar.gz"
      ],
      "execution_count": 0,
      "outputs": []
    },
    {
      "metadata": {
        "id": "1fnDFAGFYySU",
        "colab_type": "text"
      },
      "cell_type": "markdown",
      "source": [
        "The function created read_imdb_data will data from the file and data will read according to positive and negative review"
      ]
    },
    {
      "metadata": {
        "id": "61Qsu-4T3V9L",
        "colab_type": "code",
        "colab": {}
      },
      "cell_type": "code",
      "source": [
        "import os\n",
        "import glob\n",
        "\n",
        "def read_imdb_data(data_dir='data/imdb-reviews'):\n",
        "    \"\"\"Read IMDb movie reviews from given directory.\n",
        "    \n",
        "    Directory structure expected:\n",
        "    - data/\n",
        "        - train/\n",
        "            - pos/\n",
        "            - neg/\n",
        "        - test/\n",
        "            - pos/\n",
        "            - neg/\n",
        "    \n",
        "    \"\"\"\n",
        "\n",
        "    # Data, labels to be returned in nested dicts matching the dir. structure\n",
        "    data = {}\n",
        "    labels = {}\n",
        "\n",
        "    # Assume 2 sub-directories: train, test\n",
        "    for data_type in ['train', 'test']:\n",
        "        data[data_type] = {}\n",
        "        labels[data_type] = {}\n",
        "\n",
        "        # Assume 2 sub-directories for sentiment (label): pos, neg\n",
        "        for sentiment in ['pos', 'neg']:\n",
        "            data[data_type][sentiment] = []\n",
        "            labels[data_type][sentiment] = []\n",
        "            \n",
        "            # Fetch list of files for this sentiment\n",
        "            path = os.path.join(data_dir, data_type, sentiment, '*.txt')\n",
        "            files = glob.glob(path)\n",
        "            \n",
        "            # Read reviews data and assign labels\n",
        "            for f in files:\n",
        "                with open(f) as review:\n",
        "                    data[data_type][sentiment].append(review.read())\n",
        "                    labels[data_type][sentiment].append(sentiment)\n",
        "            \n",
        "            assert len(data[data_type][sentiment]) == len(labels[data_type][sentiment]), \\\n",
        "                    \"{}/{} data size does not match labels size\".format(data_type, sentiment)\n",
        "    \n",
        "    # Return data, labels as nested dicts\n",
        "    return data, labels"
      ],
      "execution_count": 0,
      "outputs": []
    },
    {
      "metadata": {
        "id": "oL2l45tNY__q",
        "colab_type": "text"
      },
      "cell_type": "markdown",
      "source": [
        "###Data Integration\n",
        "Divided data on tes and train as files from IMDB are already tagged as pos for positive sentiment and neg for negative sentiment:"
      ]
    },
    {
      "metadata": {
        "id": "zNr32vdq3iDI",
        "colab_type": "code",
        "colab": {
          "base_uri": "https://localhost:8080/",
          "height": 35
        },
        "outputId": "ba394576-cb32-496e-e2a5-537bc6a84a13"
      },
      "cell_type": "code",
      "source": [
        "data, labels = read_imdb_data()\n",
        "print(\"IMDb reviews: train = {} pos / {} neg, test = {} pos / {} neg\".format(\n",
        "        len(data['train']['pos']), len(data['train']['neg']),\n",
        "        len(data['test']['pos']), len(data['test']['neg'])))"
      ],
      "execution_count": 23,
      "outputs": [
        {
          "output_type": "stream",
          "text": [
            "IMDb reviews: train = 12500 pos / 12500 neg, test = 12500 pos / 12500 neg\n"
          ],
          "name": "stdout"
        }
      ]
    },
    {
      "metadata": {
        "id": "8KjN3sqvZVa_",
        "colab_type": "text"
      },
      "cell_type": "markdown",
      "source": [
        "\n",
        "Now that the data is loaded in, let's take a quick look at one of the positive reviews:"
      ]
    },
    {
      "metadata": {
        "id": "Iwh45U4W3lBa",
        "colab_type": "code",
        "colab": {
          "base_uri": "https://localhost:8080/",
          "height": 55
        },
        "outputId": "57b37019-23f2-4e05-d808-95b4fbf95628"
      },
      "cell_type": "code",
      "source": [
        "print(data['train']['pos'][2])"
      ],
      "execution_count": 24,
      "outputs": [
        {
          "output_type": "stream",
          "text": [
            "We have high expectations with this one . . . because its Zombi 3 the official sequel to Zombi 2 and directed by Lucio Fulci . . . however . . . its co-directed by Bruno Mattei (from Night of the Zombies) and not written by Dardino Sachetti but by Claudio Fagrasso (Night of the Zombies) and its shot in the Phillimines like Night of the Zombies and resembles Night of the Zombies (Hell of the Living Dead) a lot. as a result its more like a companion to Hell of the Living Dead than Zombi 2. Fabrazio DeAngelis who produced Zombi 2 and its editor Tomassi (?) and efx gianetto De Rossi gave Zombi 2 its magic . . . Zombi 3 is not magical . . . its like a peanut butter and jelly sandwich without the peanut-butter. But over the years, I've grown to accept Zombi 3. I could swear I saw a version where a soldier was bitten on the arm and went to the hotel room . . . there was a senseless Fulci-cut and the Mattei/Fulci-cut is the one on DVD.\n"
          ],
          "name": "stdout"
        }
      ]
    },
    {
      "metadata": {
        "id": "TRlqNoXJZWpU",
        "colab_type": "text"
      },
      "cell_type": "markdown",
      "source": [
        "\n",
        "Now that the data is loaded in, let's take a quick look at one of the Negative reviews:"
      ]
    },
    {
      "metadata": {
        "id": "IkEPB4pm3oJR",
        "colab_type": "code",
        "colab": {
          "base_uri": "https://localhost:8080/",
          "height": 55
        },
        "outputId": "6d24ec80-c8ca-4c43-96f0-21ee070d2751"
      },
      "cell_type": "code",
      "source": [
        "print(data['train']['neg'][2])"
      ],
      "execution_count": 25,
      "outputs": [
        {
          "output_type": "stream",
          "text": [
            "This film had no huge stars in it, but did have a very good cast filled with excellent supporting actors AND Gene Tierney before she became a big star. With George Sanders, Reginald Gardner, Harry Carey, Bruce Cabot, Jospeh Calleia and Cederic Hardwicke, you'd expect more from the film than it actually delivered. Most of this, I suspect, is because of a second-rate script, as director Henry Hathaway was a competent and well-established man at the helm.<br /><br />The film is set in East Africa during WWII--just before the Americans entered the war. The Brits are trying to control their African colonies while subversive Nazi elements are trying to stir up trouble among the locals. One of the white men in the film is a double-dealer--working for the destruction of the British Empire! But, lovely Tierney, playing a sultan's daughter(!), is out to help save the day for good ol' Britain.<br /><br />American film makers have long sided with the Empire and the 1930s and 40s saw a plethora of pro-empire films. Nowadays, with changed sensibilities, the notion of seeing the happy black natives dying for Queen and country seems ridiculous--and it would be hard to root for either side! Still, in its day, this propaganda piece was effective in drumming up support for the British--though when seen today, the film suffers from a long-winded script and silly casting. The one bright moment in the film is the final showdown between George Sanders and the enemy agent. Too bad after such a potent scene the film just seemed to talk and talk--losing some of its punch.\n"
          ],
          "name": "stdout"
        }
      ]
    },
    {
      "metadata": {
        "id": "m13EaSRkZhXO",
        "colab_type": "text"
      },
      "cell_type": "markdown",
      "source": [
        "We can also make a wordcloud visualization of the reviews."
      ]
    },
    {
      "metadata": {
        "id": "do-d-RLb3qiE",
        "colab_type": "code",
        "colab": {
          "base_uri": "https://localhost:8080/",
          "height": 86
        },
        "outputId": "5e7697a2-5ed7-44c4-b075-0a268bc95d5b"
      },
      "cell_type": "code",
      "source": [
        "!pip install wordcloud"
      ],
      "execution_count": 26,
      "outputs": [
        {
          "output_type": "stream",
          "text": [
            "Requirement already satisfied: wordcloud in /usr/local/lib/python3.6/dist-packages (1.5.0)\n",
            "Requirement already satisfied: numpy>=1.6.1 in /usr/local/lib/python3.6/dist-packages (from wordcloud) (1.14.6)\n",
            "Requirement already satisfied: pillow in /usr/local/lib/python3.6/dist-packages (from wordcloud) (4.1.1)\n",
            "Requirement already satisfied: olefile in /usr/local/lib/python3.6/dist-packages (from pillow->wordcloud) (0.46)\n"
          ],
          "name": "stdout"
        }
      ]
    },
    {
      "metadata": {
        "id": "Alx-TMVR3xhL",
        "colab_type": "code",
        "colab": {
          "base_uri": "https://localhost:8080/",
          "height": 219
        },
        "outputId": "f7c3b56b-bfaf-4574-f9ad-6f46b368404a"
      },
      "cell_type": "code",
      "source": [
        "import matplotlib.pyplot as plt\n",
        "%matplotlib inline\n",
        "\n",
        "from wordcloud import WordCloud, STOPWORDS\n",
        "\n",
        "sentiment = 'pos'\n",
        "\n",
        "# Combine all reviews for the desired sentiment\n",
        "combined_text = \" \".join([review for review in data['train'][sentiment]])\n",
        "\n",
        "# Initialize wordcloud object\n",
        "wc = WordCloud(background_color='white', max_words=50,\n",
        "        # update stopwords to include common words like film and movie\n",
        "        stopwords = STOPWORDS.update(['br','film','movie']))\n",
        "\n",
        "# Generate and plot wordcloud\n",
        "plt.imshow(wc.generate(combined_text))\n",
        "plt.axis('off')\n",
        "plt.show()"
      ],
      "execution_count": 27,
      "outputs": [
        {
          "output_type": "display_data",
          "data": {
            "image/png": "[encoded data removed]",
            "text/plain": [
              "<Figure size 432x288 with 1 Axes>"
            ]
          },
          "metadata": {
            "tags": []
          }
        }
      ]
    },
    {
      "metadata": {
        "id": "5OIVIDBTZ230",
        "colab_type": "text"
      },
      "cell_type": "markdown",
      "source": [
        "for negative change sentiment to 'neg' and see if you can spot any obvious differences between the wordclouds."
      ]
    },
    {
      "metadata": {
        "id": "IC-gchtj33Ce",
        "colab_type": "code",
        "colab": {
          "base_uri": "https://localhost:8080/",
          "height": 219
        },
        "outputId": "7fbe02b0-18b5-421d-fe2a-10669b56ba28"
      },
      "cell_type": "code",
      "source": [
        "sentiment = 'neg'\n",
        "\n",
        "# Combine all reviews for the desired sentiment\n",
        "combined_text = \" \".join([review for review in data['train'][sentiment]])\n",
        "\n",
        "# Initialize wordcloud object\n",
        "wc = WordCloud(background_color='white', max_words=50,\n",
        "        # update stopwords to include common words like film and movie\n",
        "        stopwords = STOPWORDS.update(['br','film','movie']))\n",
        "\n",
        "# Generate and plot wordcloud\n",
        "plt.imshow(wc.generate(combined_text))\n",
        "plt.axis('off')\n",
        "plt.show()"
      ],
      "execution_count": 15,
      "outputs": [
        {
          "output_type": "display_data",
          "data": {
            "image/png": "[encoded data removed]",
            "text/plain": [
              "<Figure size 432x288 with 1 Axes>"
            ]
          },
          "metadata": {
            "tags": []
          }
        }
      ]
    },
    {
      "metadata": {
        "id": "Amz87YdVaA_f",
        "colab_type": "text"
      },
      "cell_type": "markdown",
      "source": [
        "As we have explored the data and had a look into what type of raw data we have.\n",
        "Now to combinepositive docuemnt with negative and get one unified train and test set."
      ]
    },
    {
      "metadata": {
        "id": "zuZqpDaU37mp",
        "colab_type": "code",
        "colab": {
          "base_uri": "https://localhost:8080/",
          "height": 35
        },
        "outputId": "dc8e7148-4b43-4304-d175-99e2f813aa2e"
      },
      "cell_type": "code",
      "source": [
        "from sklearn.utils import shuffle\n",
        "\n",
        "def prepare_imdb_data(data):\n",
        "    \"\"\"Prepare training and test sets from IMDb movie reviews.\"\"\"\n",
        "    \n",
        "    data_train = data['train']['pos'] + data['train']['neg']\n",
        "    data_test = data['test']['pos'] + data['test']['neg']\n",
        "    labels_train = labels['train']['pos'] + labels['train']['neg']\n",
        "    labels_test = labels['test']['pos'] + labels['test']['neg']\n",
        "    \n",
        "\n",
        "    data_train, labels_train = shuffle(data_train, labels_train)\n",
        "    data_test, labels_test = shuffle(data_test, labels_test)\n",
        "    \n",
        "    # Return a unified training data, test data, training labels, test labets\n",
        "    return data_train, data_test, labels_train, labels_test\n",
        "\n",
        "\n",
        "data_train, data_test, labels_train, labels_test = prepare_imdb_data(data)\n",
        "print(\"IMDb reviews (combined): train = {}, test = {}\".format(len(data_train), len(data_test)))"
      ],
      "execution_count": 28,
      "outputs": [
        {
          "output_type": "stream",
          "text": [
            "IMDb reviews (combined): train = 25000, test = 25000\n"
          ],
          "name": "stdout"
        }
      ]
    },
    {
      "metadata": {
        "id": "vL4I5erpa6YR",
        "colab_type": "text"
      },
      "cell_type": "markdown",
      "source": [
        "\n",
        "##Step 2. Preprocessing\n",
        "As you might have noticed in the sample reviews, our raw data includes HTML. Therefore there are HTML tags that need to be removed. We also need to remove non-letter characters, normalize uppercase letters by converting them to lowercase, tokenize, remove stop words, and stem the remaining words in each document.\n",
        "\n",
        "Convert each review to words\n",
        "As your next task, you should complete the function review_to_words() that performs all these steps. For your convenience, in the Python cell below we provide you with all the libraries that you may need in order to accomplish these preprocessing steps. Make sure you can import all of them! (If not, pip install from a terminal and run/import again.)*italicized text*"
      ]
    },
    {
      "metadata": {
        "id": "DDJNxXIw4AZK",
        "colab_type": "code",
        "colab": {
          "base_uri": "https://localhost:8080/",
          "height": 52
        },
        "outputId": "c9b5ed54-ad65-46cc-a465-30824b89960e"
      },
      "cell_type": "code",
      "source": [
        "# BeautifulSoup to easily remove HTML tags\n",
        "from bs4 import BeautifulSoup \n",
        "\n",
        "# RegEx for removing non-letter characters\n",
        "import re\n",
        "\n",
        "# NLTK library for the remaining steps\n",
        "import nltk\n",
        "nltk.download(\"stopwords\")   # download list of stopwords (only once; need not run it again)\n",
        "from nltk.corpus import stopwords # import stopwords\n",
        "\n",
        "from nltk.stem.porter import *\n",
        "stemmer = PorterStemmer()"
      ],
      "execution_count": 29,
      "outputs": [
        {
          "output_type": "stream",
          "text": [
            "[nltk_data] Downloading package stopwords to /root/nltk_data...\n",
            "[nltk_data]   Package stopwords is already up-to-date!\n"
          ],
          "name": "stdout"
        }
      ]
    },
    {
      "metadata": {
        "id": "J26uxAyW4Dzb",
        "colab_type": "code",
        "colab": {
          "base_uri": "https://localhost:8080/",
          "height": 35
        },
        "outputId": "61ec5d70-c004-4e64-e279-6b18c0fd6123"
      },
      "cell_type": "code",
      "source": [
        "def review_to_words(review):\n",
        "    \"\"\"Convert a raw review string into a sequence of words.\"\"\"\n",
        "    \n",
        "    # Remove HTML tags and non-letters,\n",
        "    # convert to lowercase, tokenize,\n",
        "    #  remove stopwords and stem\n",
        "    text = BeautifulSoup(review, \"html5lib\").get_text()\n",
        "    text = re.sub(r\"[^a-zA-Z0-9]\", \" \", text.lower())\n",
        "    words = text.split()\n",
        "    words = [w for w in words if w not in stopwords.words(\"english\")]\n",
        "    words = [PorterStemmer().stem(w) for w in words]\n",
        "\n",
        "    # Return final list of words\n",
        "    return words\n",
        "\n",
        "\n",
        "review_to_words(\"\"\"This is just a <em>test</em>.<br/><br />\n",
        "But if it wasn't a test, it would make for a <b>Great</b> movie review!\"\"\")"
      ],
      "execution_count": 30,
      "outputs": [
        {
          "output_type": "execute_result",
          "data": {
            "text/plain": [
              "['test', 'test', 'would', 'make', 'great', 'movi', 'review']"
            ]
          },
          "metadata": {
            "tags": []
          },
          "execution_count": 30
        }
      ]
    },
    {
      "metadata": {
        "id": "iZMNSSRabIjy",
        "colab_type": "text"
      },
      "cell_type": "markdown",
      "source": [
        "With the function review_to_words() fully implemeneted, we can apply it to all reviews in both training and test datasets. This may take a while, so let's build in a mechanism to write to a cache file and retrieve from it later."
      ]
    },
    {
      "metadata": {
        "id": "QFJcWiCu4GuH",
        "colab_type": "code",
        "colab": {}
      },
      "cell_type": "code",
      "source": [
        "import pickle\n",
        "\n",
        "cache_dir = os.path.join(\"cache\", \"sentiment_analysis\")  # where to store cache files\n",
        "os.makedirs(cache_dir, exist_ok=True)  # ensure cache directory exists\n",
        "\n",
        "def preprocess_data(data_train, data_test, labels_train, labels_test,\n",
        "                    cache_dir=cache_dir, cache_file=\"preprocessed_data.pkl\"):\n",
        "    \"\"\"Convert each review to words; read from cache if available.\"\"\"\n",
        "\n",
        "    # If cache_file is not None, try to read from it first\n",
        "    cache_data = None\n",
        "    if cache_file is not None:\n",
        "        try:\n",
        "            with open(os.path.join(cache_dir, cache_file), \"rb\") as f:\n",
        "                cache_data = pickle.load(f)\n",
        "            print(\"Read preprocessed data from cache file:\", cache_file)\n",
        "        except:\n",
        "            pass  # unable to read from cache, but that's okay\n",
        "    \n",
        "    # If cache is missing, then do the heavy lifting\n",
        "    if cache_data is None:\n",
        "        # Preprocess training and test data to obtain words for each review\n",
        "        words_train = list(map(review_to_words, data_train))\n",
        "        words_test = list(map(review_to_words, data_test))\n",
        "        \n",
        "        # Write to cache file for future runs\n",
        "        if cache_file is not None:\n",
        "            cache_data = dict(words_train=words_train, words_test=words_test,\n",
        "                              labels_train=labels_train, labels_test=labels_test)\n",
        "            with open(os.path.join(cache_dir, cache_file), \"wb\") as f:\n",
        "                pickle.dump(cache_data, f)\n",
        "            print(\"Wrote preprocessed data to cache file:\", cache_file)\n",
        "    else:\n",
        "        # Unpack data loaded from cache file\n",
        "        words_train, words_test, labels_train, labels_test = (cache_data['words_train'],\n",
        "                cache_data['words_test'], cache_data['labels_train'], cache_data['labels_test'])\n",
        "    \n",
        "    return words_train, words_test, labels_train, labels_test"
      ],
      "execution_count": 0,
      "outputs": []
    },
    {
      "metadata": {
        "id": "RYXUoQKX4LO3",
        "colab_type": "code",
        "colab": {
          "base_uri": "https://localhost:8080/",
          "height": 210
        },
        "outputId": "46d8bde1-bbbb-48a2-fde7-419bbf9984a8"
      },
      "cell_type": "code",
      "source": [
        "# Preprocess data\n",
        "words_train, words_test, labels_train, labels_test = preprocess_data(\n",
        "        data_train, data_test, labels_train, labels_test)\n",
        "\n",
        "# Take a look at a sample\n",
        "print(\"\\n--- Raw review ---\")\n",
        "print(data_train[1])\n",
        "print(\"\\n--- Preprocessed words ---\")\n",
        "print(words_train[1])\n",
        "print(\"\\n--- Label ---\")\n",
        "print(labels_train[1])"
      ],
      "execution_count": 32,
      "outputs": [
        {
          "output_type": "stream",
          "text": [
            "Read preprocessed data from cache file: preprocessed_data.pkl\n",
            "\n",
            "--- Raw review ---\n",
            "Maybe \"Presque Rien\" is not the best movie ever made... But it is better than many of you have said. I still haven't seen a homo-themed movie better than this one.<br /><br />You Americans are accustomed to watch very narrative movies, with a clear beginning, development and outcome. But European movies are less narrative, but makes you think much and feel.<br /><br />Many of you didn't understand the sense of the movie.. The purpose of this one is not show us a simple \"summer loving movie\", with commercial characters who \"fall in love and live happy forever\". Summer Holidays and beach are only a background, and this movie is directed to every young boy who may feel identified with those boys.<br /><br />Maybe some of you didn't understand well this movie, because of its 3 parts, showed as flashbacks. These 3 moments are: - Summertime in Pornichet, when they meet and love. - After a year and half living together in Nantes, Mathieu doesn't go to a psychiatric himself. He tries to suicide taking something, and Cedric brings him to hospital. Later, he appears talking with a psychiatrist to find the reason about he done that. - The last part, is when Mathieu come back to Pornichet, in winter, alone.. to think about how his life have changed, how his life become to be, and trying to find himself.<br /><br />It's possible that some people couldn't understand all this well, because all the scenes are mixed among them. But anyway, as I said before... this is not a funny movie. If what someone want to see is meat, for that, we have Belami movies.<br /><br />Presque Rien, what want to show us, is how cruel can be the life, for a young boy who is not sure about his feelings and not sure about what to do in life. Mathieu only wants to go away from home, and try to live the kind of life that he thought could bring him the happiness.. But what seemed perfect at the beginning.. later is not as good as he thought, and he become troubled, and feel that he has lost the way of his life. He is lost and doesn't know what he really wants to do, or what makes him happy. He finally become depressed and tries to commit suicide. <br /><br />So, funny? Is not a funny movie. Very hot scenes? only a few.. but this is not a movie for entertainment. Is all about feelings... friendship, love, happiness, unhappiness, pain, depression, loneliness... I, as many others, feel identified with life and problems of Mathieu, and that is what director wanted to do.. a movie who show us the cruel reality of a boy's life.<br /><br />For me, the best homo-themed movie ever.\n",
            "\n",
            "--- Preprocessed words ---\n",
            "['think', 'ever', 'bowl', 'sheer', 'absurd', 'movi', 'entir', 'life', 'walk', 'piec', 'crap', 'noth', 'make', 'sens', 'none', 'clever', 'well', 'thought', 'lack', 'truli', 'suspens', 'moment', 'repeatedli', 'use', 'total', 'cop', 'trick', 'build', 'music', 'charact', 'someth', 'like', 'open', 'door', 'push', 'asid', 'curtain', 'noth', 'that', 'ok', 'mayb', 'count', 'three', 'time', 'thing', 'thrown', 'appar', 'reason', 'charact', 'half', 'form', 'stori', 'line', 'charact', 'well', 'develop', 'end', 'bad', 'bad', 'bad', 'bad', 'everyth', 'everi', 'compon', 'film', 'terribl', 'warn']\n",
            "\n",
            "--- Label ---\n",
            "neg\n"
          ],
          "name": "stdout"
        }
      ]
    },
    {
      "metadata": {
        "id": "EiDEtjW9bRPu",
        "colab_type": "text"
      },
      "cell_type": "markdown",
      "source": [
        "##Step 3: Extracting Bag-of-Words features\n",
        "Now that each document has been preprocessed, we can transform each into a Bag-of-Words feature representation. Note that we need to create this transformation based on the training data alone, as we are not allowed to peek at the testing data at all!\n",
        "\n",
        "The dictionary or vocabulary $V$ (set of words shared by documents in the training set) used here will be the one on which we train our supervised learning algorithm. Any future test data must be transformed in the same way for us to be able to apply the learned model for prediction. Hence, it is important to store the transformation / vocabulary as well.\n",
        "\n",
        "Note: The set of words in the training set may not be exactly the same as the test set. What do you do if you encounter a word during testing that you haven't seen before? Unfortunately, we'll have to ignore it, or replace it with a special <UNK> token.\n",
        "\n",
        "Compute Bag-of-Words features\n",
        "Implement the extract_BoW_features() function, apply it to both training and test datasets, and store the results in features_train and features_test NumPy arrays, respectively. Choose a reasonable vocabulary size, say $|V| = 5000$, and keep only the top $|V|$ occuring words and discard the rest. This number will also serve as the number of columns in the BoW matrices."
      ]
    },
    {
      "metadata": {
        "id": "-9D2jsCd4N_5",
        "colab_type": "code",
        "colab": {
          "base_uri": "https://localhost:8080/",
          "height": 245
        },
        "outputId": "f3f32d37-753e-4e30-cdb9-35986a24999c"
      },
      "cell_type": "code",
      "source": [
        "import numpy as np\n",
        "from sklearn.feature_extraction.text import CountVectorizer\n",
        "from sklearn.externals import joblib\n",
        "# joblib is an enhanced version of pickle that is more efficient for storing NumPy arrays\n",
        "\n",
        "def extract_BoW_features(words_train, words_test, vocabulary_size=5000,\n",
        "                         cache_dir=cache_dir, cache_file=\"bow_features.pkl\"):\n",
        "    \"\"\"Extract Bag-of-Words for a given set of documents, already preprocessed into words.\"\"\"\n",
        "    \n",
        "    # If cache_file is not None, try to read from it first\n",
        "    cache_data = None\n",
        "    if cache_file is not None:\n",
        "        try:\n",
        "            with open(os.path.join(cache_dir, cache_file), \"rb\") as f:\n",
        "                cache_data = joblib.load(f)\n",
        "            print(\"Read features from cache file:\", cache_file)\n",
        "        except:\n",
        "            pass  # unable to read from cache, but that's okay\n",
        "    \n",
        "    # If cache is missing, then do the heavy lifting\n",
        "    if cache_data is None:\n",
        "        # TODO: Fit a vectorizer to training documents and use it to transform them\n",
        "        # NOTE: Training documents have already been preprocessed and tokenized into words;\n",
        "        #       pass in dummy functions to skip those steps, e.g. preprocessor=lambda x: x\n",
        "        vectorizer = CountVectorizer(max_features=vocabulary_size,\n",
        "                preprocessor=lambda x: x, tokenizer=lambda x: x)  # already preprocessed\n",
        "        features_train = vectorizer.fit_transform(words_train).toarray()\n",
        "\n",
        "        # TODO: Apply the same vectorizer to transform the test documents (ignore unknown words)\n",
        "        features_test = vectorizer.transform(words_test).toarray()\n",
        "        \n",
        "        # NOTE: Remember to convert the features using .toarray() for a compact representatio\n",
        "               # Write to cache file for future runs (store vocabulary as well)\n",
        "        if cache_file is not None:\n",
        "            vocabulary = vectorizer.vocabulary_\n",
        "            cache_data = dict(features_train=features_train, features_test=features_test,\n",
        "                             vocabulary=vocabulary)\n",
        "            with open(os.path.join(cache_dir, cache_file), \"wb\") as f:\n",
        "                joblib.dump(cache_data, f)\n",
        "            print(\"Wrote features to cache file:\", cache_file)\n",
        "    else:\n",
        "        # Unpack data loaded from cache file\n",
        "        features_train, features_test, vocabulary = (cache_data['features_train'],\n",
        "                cache_data['features_test'], cache_data['vocabulary'])\n",
        "    \n",
        "    # Return both the extracted features as well as the vocabulary\n",
        "    return features_train, features_test, vocabulary\n",
        "\n",
        "\n",
        "# Extract Bag of Words features for both training and test datasets\n",
        "features_train, features_test, vocabulary = extract_BoW_features(words_train, words_test)\n",
        "\n",
        "# Inspect the vocabulary that was computed\n",
        "print(\"Vocabulary: {} words\".format(len(vocabulary)))\n",
        "\n",
        "import random\n",
        "print(\"Sample words: {}\".format(random.sample(list(vocabulary.keys()), 8)))\n",
        "\n",
        "# Sample\n",
        "print(\"\\n--- Preprocessed words ---\")\n",
        "print(words_train[5])\n",
        "print(\"\\n--- Bag-of-Words features ---\")\n",
        "print(features_train[5])\n",
        "print(\"\\n--- Label ---\")\n",
        "print(labels_train[5])\n"
      ],
      "execution_count": 33,
      "outputs": [
        {
          "output_type": "stream",
          "text": [
            "Wrote features to cache file: bow_features.pkl\n",
            "Vocabulary: 5000 words\n",
            "Sample words: ['fool', 'rape', 'edi', 'complain', 'woo', 'uncl', 'bone', 'sore']\n",
            "\n",
            "--- Preprocessed words ---\n",
            "['recent', 'watch', 'movi', 'lazi', 'sunday', 'afternoon', 'friend', 'mine', 'lot', 'fun', 'movi', 'masterpiec', 'trash', 'tri', 'watch', 'purpos', 'expect', 'cours', 'perform', 'provid', 'actor', 'alberto', 'tomba', 'absolut', 'best', 'weak', 'script', 'low', 'cost', 'budget', 'creat', 'amaz', 'mix', 'foolish', 'thing', 'tomba', 'retir', 'alpin', 'ski', 'race', 'domin', 'technic', 'skier', 'late', '1980', '1990', 'tomba', 'three', 'olymp', 'gold', 'medal', 'two', 'world', 'championship', 'nine', 'world', 'cup', 'season', 'titl', 'serious', 'director', 'nobodi', 'know', 'damiano', 'damiani', 'sign', 'movi', 'damiani', 'direct', 'consider']\n",
            "\n",
            "--- Bag-of-Words features ---\n",
            "[0 0 0 ... 0 0 0]\n",
            "\n",
            "--- Label ---\n",
            "pos\n"
          ],
          "name": "stdout"
        }
      ]
    },
    {
      "metadata": {
        "id": "0GcFs42HbXBb",
        "colab_type": "text"
      },
      "cell_type": "markdown",
      "source": [
        "Let's try to visualize the Bag-of-Words feature vector for one of our training documents."
      ]
    },
    {
      "metadata": {
        "id": "tpqtuM-qQCS5",
        "colab_type": "code",
        "colab": {
          "base_uri": "https://localhost:8080/",
          "height": 279
        },
        "outputId": "98574755-ed02-4fc6-d7b0-d6bfed8385be"
      },
      "cell_type": "code",
      "source": [
        "# Plot the BoW feature vector for a training document\n",
        "plt.plot(features_train[5,:])\n",
        "plt.xlabel('Word')\n",
        "plt.ylabel('Count')\n",
        "plt.show()"
      ],
      "execution_count": 34,
      "outputs": [
        {
          "output_type": "display_data",
          "data": {
            "image/png": "[encoded data removed]",
            "text/plain": [
              "<Figure size 432x288 with 1 Axes>"
            ]
          },
          "metadata": {
            "tags": []
          }
        }
      ]
    },
    {
      "metadata": {
        "id": "7lJmmi6-bb_a",
        "colab_type": "text"
      },
      "cell_type": "markdown",
      "source": [
        "\n",
        "##Normalize feature vectors\n",
        "Bag-of-Words features are intuitive to understand as they are simply word counts. But counts can vary a lot, and potentially throw off learning algorithms later in the pipeline. So, before we proceed further, let's normalize the BoW feature vectors to have unit length.\n",
        "\n",
        "This makes sure that each document's representation retains the unique mixture of feature components, but prevents documents with large word counts from dominating those with fewer words."
      ]
    },
    {
      "metadata": {
        "id": "w5P6PAPgQv13",
        "colab_type": "code",
        "colab": {
          "base_uri": "https://localhost:8080/",
          "height": 284
        },
        "outputId": "0ede750a-0de3-42ec-ce15-f6f951c6c2ec"
      },
      "cell_type": "code",
      "source": [
        "# Find number of occurrences for each word in the training set\n",
        "word_freq = features_train.sum(axis=0)\n",
        "\n",
        "# Sort it in descending order\n",
        "sorted_word_freq = np.sort(word_freq)[::-1]\n",
        "\n",
        "# Plot \n",
        "plt.plot(sorted_word_freq)\n",
        "plt.gca().set_xscale('log')\n",
        "plt.gca().set_yscale('log')\n",
        "plt.xlabel('Rank')\n",
        "plt.ylabel('Number of occurrences')\n",
        "plt.show()"
      ],
      "execution_count": 35,
      "outputs": [
        {
          "output_type": "display_data",
          "data": {
            "image/png": "[encoded data removed]",
            "text/plain": [
              "<Figure size 432x288 with 1 Axes>"
            ]
          },
          "metadata": {
            "tags": []
          }
        }
      ]
    },
    {
      "metadata": {
        "id": "59PVIpjsQyVc",
        "colab_type": "code",
        "colab": {}
      },
      "cell_type": "code",
      "source": [
        "import sklearn.preprocessing as pr\n",
        "\n",
        "# TODO: Normalize BoW features in training and test set\n",
        "features_train = pr.normalize(features_train, axis=1)\n",
        "features_test = pr.normalize(features_test, axis=1)"
      ],
      "execution_count": 0,
      "outputs": []
    },
    {
      "metadata": {
        "id": "dzAi6HKcb0E2",
        "colab_type": "text"
      },
      "cell_type": "markdown",
      "source": [
        "\n",
        "##Step 4: Classification using BoW features\n",
        "Now that the data has all been properly transformed, we can feed it into a classifier. To get a baseline model, we train a Naive Bayes classifier from scikit-learn (specifically, GaussianNB), and evaluate its accuracy on the test set."
      ]
    },
    {
      "metadata": {
        "id": "wzOyL6HJQ09W",
        "colab_type": "code",
        "colab": {
          "base_uri": "https://localhost:8080/",
          "height": 35
        },
        "outputId": "e6eafe42-c378-4a7c-8561-c0412e1fefd9"
      },
      "cell_type": "code",
      "source": [
        "\n",
        "from sklearn.naive_bayes import GaussianNB\n",
        "\n",
        "# TODO: Train a Guassian Naive Bayes classifier\n",
        "clf1 = GaussianNB()\n",
        "clf1.fit(features_train, labels_train)\n",
        "\n",
        "# Calculate the mean accuracy score on training and test sets\n",
        "print(\"[{}] Accuracy: train = {}, test = {}\".format(\n",
        "        clf1.__class__.__name__,\n",
        "        clf1.score(features_train, labels_train),\n",
        "        clf1.score(features_test, labels_test)))"
      ],
      "execution_count": 37,
      "outputs": [
        {
          "output_type": "stream",
          "text": [
            "[GaussianNB] Accuracy: train = 0.8198, test = 0.72768\n"
          ],
          "name": "stdout"
        }
      ]
    },
    {
      "metadata": {
        "id": "wc6j6nGSb7nl",
        "colab_type": "text"
      },
      "cell_type": "markdown",
      "source": [
        "Tree-based algorithms often work quite well on Bag-of-Words as their highly discontinuous and sparse nature is nicely matched by the structure of trees. so the next task, I will try to improve on the Naive Bayes classifier's performance by using scikit-learn's Gradient-Boosted Decision Tree classifer.\n",
        "\n",
        "Gradient-Boosted Decision Tree classifier\n",
        "Used GradientBoostingClassifier from scikit-learn to classify the BoW data. This model has a number of parameters. i will be using default parameters for some of them and pre-set the rest, except one: n_estimators. \n",
        "\n"
      ]
    },
    {
      "metadata": {
        "id": "Y07-QOT_cL4A",
        "colab_type": "text"
      },
      "cell_type": "markdown",
      "source": [
        ""
      ]
    },
    {
      "metadata": {
        "id": "2Ifz4i6EQ4bT",
        "colab_type": "code",
        "colab": {
          "base_uri": "https://localhost:8080/",
          "height": 35
        },
        "outputId": "1733dbcf-cc37-44d3-9442-8e1cc6eb33d4"
      },
      "cell_type": "code",
      "source": [
        "from sklearn.ensemble import GradientBoostingClassifier\n",
        "\n",
        "n_estimators = 32\n",
        "\n",
        "def classify_gboost(X_train, X_test, y_train, y_test):        \n",
        "    # Initialize classifier\n",
        "    clf = GradientBoostingClassifier(n_estimators=n_estimators, learning_rate=1.0, max_depth=1, random_state=0)\n",
        "\n",
        "    # TODO: Classify the data using GradientBoostingClassifier\n",
        "    clf.fit(X_train, y_train)\n",
        "\n",
        "    # TODO(optional): Perform hyperparameter tuning / model selection\n",
        "    \n",
        "    # TODO: Print final training & test accuracy\n",
        "    print(\"[{}] Accuracy: train = {}, test = {}\".format(\n",
        "            clf.__class__.__name__,\n",
        "            clf.score(X_train, y_train),\n",
        "            clf.score(X_test, y_test)))\n",
        "    \n",
        "    # Return best classifier model\n",
        "    return clf\n",
        "\n",
        "\n",
        "clf2 = classify_gboost(features_train, features_test, labels_train, labels_test)"
      ],
      "execution_count": 38,
      "outputs": [
        {
          "output_type": "stream",
          "text": [
            "[GradientBoostingClassifier] Accuracy: train = 0.79472, test = 0.79004\n"
          ],
          "name": "stdout"
        }
      ]
    },
    {
      "metadata": {
        "id": "xNFXvuRHcUew",
        "colab_type": "text"
      },
      "cell_type": "markdown",
      "source": [
        "##Adverserial testing\n",
        "Write a short movie review to trick your machine learning model! That is, a movie review with a clear positive or negative sentiment that your model will classify incorrectly."
      ]
    },
    {
      "metadata": {
        "id": "CvuzHfCZQ9_p",
        "colab_type": "code",
        "colab": {
          "base_uri": "https://localhost:8080/",
          "height": 158
        },
        "outputId": "dd6bd789-c028-4d7b-d0e0-6b93669cc3fe"
      },
      "cell_type": "code",
      "source": [
        "# TODO: Write a sample review and set its true sentiment\n",
        "my_review = \"I thought it would be just like all the other boring sequels that are coming out everyday. But had I not gone, I would've missed out on a treat. Not only was it not boring, it kept me at the edge of my seat till the end.\"\n",
        "true_sentiment = 'pos'  # sentiment must be 'pos' or 'neg'\n",
        "\n",
        "# TODO: Apply the same preprocessing and vectorizing steps as you did for your training data\n",
        "my_words = review_to_words(my_review)\n",
        "vectorizer = CountVectorizer(vocabulary=vocabulary,\n",
        "                             preprocessor=lambda x: x, tokenizer=lambda x: x)  # already preprocessed\n",
        "my_bow_features = vectorizer.transform([my_words]).toarray()  # pass an array of 1 element\n",
        "\n",
        "# TODO: Then call your classifier to label it\n",
        "predicted_sentiment = clf2.predict(my_bow_features)[0]\n",
        "print(\"--- My review ---\")\n",
        "print(my_review)\n",
        "print(\"\\n--- Preprocessed words ---\")\n",
        "print(my_words)\n",
        "print(\"\\nTrue sentiment: {}, predicted sentiment: {}\".format(true_sentiment, predicted_sentiment))"
      ],
      "execution_count": 39,
      "outputs": [
        {
          "output_type": "stream",
          "text": [
            "--- My review ---\n",
            "I thought it would be just like all the other boring sequels that are coming out everyday. But had I not gone, I would've missed out on a treat. Not only was it not boring, it kept me at the edge of my seat till the end.\n",
            "\n",
            "--- Preprocessed words ---\n",
            "['thought', 'would', 'like', 'bore', 'sequel', 'come', 'everyday', 'gone', 'would', 'miss', 'treat', 'bore', 'kept', 'edg', 'seat', 'till', 'end']\n",
            "\n",
            "True sentiment: pos, predicted sentiment: neg\n"
          ],
          "name": "stdout"
        }
      ]
    },
    {
      "metadata": {
        "id": "8BPt8UlFcjv8",
        "colab_type": "text"
      },
      "cell_type": "markdown",
      "source": [
        "##Step 5: Switching gears - RNNs¶\n",
        "We just saw how the task of sentiment analysis can be solved via a traditional machine learning approach: BoW + a nonlinear classifier. \n",
        "Now I will use Recurrent Neural Networks, and in particular LSTMs, to perform sentiment analysis in Keras. Conveniently, Keras has a built-in IMDb movie reviews dataset that we can use, with the same vocabulary size."
      ]
    },
    {
      "metadata": {
        "id": "CWUpvIoYRbcU",
        "colab_type": "code",
        "colab": {
          "base_uri": "https://localhost:8080/",
          "height": 86
        },
        "outputId": "109132d5-df8d-4393-e3dd-62c3733950d6"
      },
      "cell_type": "code",
      "source": [
        "from keras.datasets import imdb  # import the built-in imdb dataset in Keras\n",
        "\n",
        "# Set the vocabulary size\n",
        "vocabulary_size = 5000\n",
        "\n",
        "# Load in training and test data (note the difference in convention compared to scikit-learn)\n",
        "(X_train, y_train), (X_test, y_test) = imdb.load_data(num_words=vocabulary_size)\n",
        "print(\"Loaded dataset with {} training samples, {} test samples\".format(len(X_train), len(X_test)))"
      ],
      "execution_count": 40,
      "outputs": [
        {
          "output_type": "stream",
          "text": [
            "Using TensorFlow backend.\n"
          ],
          "name": "stderr"
        },
        {
          "output_type": "stream",
          "text": [
            "Downloading data from https://s3.amazonaws.com/text-datasets/imdb.npz\n",
            "17465344/17464789 [==============================] - 0s 0us/step\n",
            "Loaded dataset with 25000 training samples, 25000 test samples\n"
          ],
          "name": "stdout"
        }
      ]
    },
    {
      "metadata": {
        "id": "mhc0zTnHRd7s",
        "colab_type": "code",
        "colab": {
          "base_uri": "https://localhost:8080/",
          "height": 106
        },
        "outputId": "e6f3900b-910f-4c54-be7a-3adc90267f2c"
      },
      "cell_type": "code",
      "source": [
        "# Inspect a sample review and its label\n",
        "print(\"--- Review ---\")\n",
        "print(X_train[7])\n",
        "print(\"--- Label ---\")\n",
        "print(y_train[7])"
      ],
      "execution_count": 41,
      "outputs": [
        {
          "output_type": "stream",
          "text": [
            "--- Review ---\n",
            "[1, 4, 2, 716, 4, 65, 7, 4, 689, 4367, 2, 2343, 4804, 2, 2, 2, 2, 2315, 2, 2, 2, 2, 4, 2, 628, 2, 37, 9, 150, 4, 2, 4069, 11, 2909, 4, 2, 847, 313, 6, 176, 2, 9, 2, 138, 9, 4434, 19, 4, 96, 183, 26, 4, 192, 15, 27, 2, 799, 2, 2, 588, 84, 11, 4, 3231, 152, 339, 2, 42, 4869, 2, 2, 345, 4804, 2, 142, 43, 218, 208, 54, 29, 853, 659, 46, 4, 882, 183, 80, 115, 30, 4, 172, 174, 10, 10, 1001, 398, 1001, 1055, 526, 34, 3717, 2, 2, 2, 17, 4, 2, 1094, 871, 64, 85, 22, 2030, 1109, 38, 230, 9, 4, 4324, 2, 251, 2, 1034, 195, 301, 14, 16, 31, 7, 4, 2, 8, 783, 2, 33, 4, 2945, 103, 465, 2, 42, 845, 45, 446, 11, 1895, 19, 184, 76, 32, 4, 2, 207, 110, 13, 197, 4, 2, 16, 601, 964, 2152, 595, 13, 258, 4, 1730, 66, 338, 55, 2, 4, 550, 728, 65, 1196, 8, 1839, 61, 1546, 42, 2, 61, 602, 120, 45, 2, 6, 320, 786, 99, 196, 2, 786, 2, 4, 225, 4, 373, 1009, 33, 4, 130, 63, 69, 72, 1104, 46, 1292, 225, 14, 66, 194, 2, 1703, 56, 8, 803, 1004, 6, 2, 155, 11, 4, 2, 3231, 45, 853, 2029, 8, 30, 6, 117, 430, 19, 6, 2, 9, 15, 66, 424, 8, 2337, 178, 9, 15, 66, 424, 8, 1465, 178, 9, 15, 66, 142, 15, 9, 424, 8, 28, 178, 662, 44, 12, 17, 4, 130, 898, 1686, 9, 6, 2, 267, 185, 430, 4, 118, 2, 277, 15, 4, 1188, 100, 216, 56, 19, 4, 357, 114, 2, 367, 45, 115, 93, 788, 121, 4, 2, 79, 32, 68, 278, 39, 8, 818, 162, 4165, 237, 600, 7, 98, 306, 8, 157, 549, 628, 11, 6, 2, 13, 824, 15, 4104, 76, 42, 138, 36, 774, 77, 1059, 159, 150, 4, 229, 497, 8, 1493, 11, 175, 251, 453, 19, 2, 189, 12, 43, 127, 6, 394, 292, 7, 2, 4, 107, 8, 4, 2826, 15, 1082, 1251, 9, 906, 42, 1134, 6, 66, 78, 22, 15, 13, 244, 2519, 8, 135, 233, 52, 44, 10, 10, 466, 112, 398, 526, 34, 4, 1572, 4413, 2, 1094, 225, 57, 599, 133, 225, 6, 227, 7, 541, 4323, 6, 171, 139, 7, 539, 2, 56, 11, 6, 3231, 21, 164, 25, 426, 81, 33, 344, 624, 19, 6, 4617, 7, 2, 2, 6, 2, 4, 22, 9, 1082, 629, 237, 45, 188, 6, 55, 655, 707, 2, 956, 225, 1456, 841, 42, 1310, 225, 6, 2493, 1467, 2, 2828, 21, 4, 2, 9, 364, 23, 4, 2228, 2407, 225, 24, 76, 133, 18, 4, 189, 2293, 10, 10, 814, 11, 2, 11, 2642, 14, 47, 15, 682, 364, 352, 168, 44, 12, 45, 24, 913, 93, 21, 247, 2441, 4, 116, 34, 35, 1859, 8, 72, 177, 9, 164, 8, 901, 344, 44, 13, 191, 135, 13, 126, 421, 233, 18, 259, 10, 10, 4, 2, 2, 4, 2, 3074, 7, 112, 199, 753, 357, 39, 63, 12, 115, 2, 763, 8, 15, 35, 3282, 1523, 65, 57, 599, 6, 1916, 277, 1730, 37, 25, 92, 202, 6, 2, 44, 25, 28, 6, 22, 15, 122, 24, 4171, 72, 33, 32]\n",
            "--- Label ---\n",
            "0\n"
          ],
          "name": "stdout"
        }
      ]
    },
    {
      "metadata": {
        "id": "OX7U8wuJRm55",
        "colab_type": "code",
        "colab": {
          "base_uri": "https://localhost:8080/",
          "height": 141
        },
        "outputId": "998501c3-f819-44db-9a46-823e4407d637"
      },
      "cell_type": "code",
      "source": [
        "word2id = imdb.get_word_index()\n",
        "id2word = {i: word for word, i in word2id.items()}\n",
        "print(\"--- Review (with words) ---\")\n",
        "print([id2word.get(i, \" \") for i in X_train[7]])\n",
        "print(\"--- Label ---\")\n",
        "print(y_train[7])"
      ],
      "execution_count": 42,
      "outputs": [
        {
          "output_type": "stream",
          "text": [
            "Downloading data from https://s3.amazonaws.com/text-datasets/imdb_word_index.json\n",
            "1646592/1641221 [==============================] - 0s 0us/step\n",
            "--- Review (with words) ---\n",
            "['the', 'of', 'and', 'local', 'of', 'their', 'br', 'of', 'attention', 'widow', 'and', 'captures', 'parties', 'and', 'and', 'and', 'and', 'excitement', 'and', 'and', 'and', 'and', 'of', 'and', 'english', 'and', 'like', 'it', 'years', 'of', 'and', 'unintentional', 'this', 'hitchcock', 'of', 'and', 'learn', 'everyone', 'is', 'quite', 'and', 'it', 'and', 'such', 'it', 'bonus', 'film', 'of', 'too', 'seems', 'he', 'of', 'enough', 'for', 'be', 'and', 'editing', 'and', 'and', 'please', 'great', 'this', 'of', 'shoots', 'thing', '3', 'and', \"it's\", 'mentioning', 'and', 'and', 'given', 'parties', 'and', 'back', 'out', 'interesting', 'times', 'no', 'all', 'average', 'talking', 'some', 'of', 'nor', 'seems', 'into', 'best', 'at', 'of', 'every', 'cast', 'i', 'i', 'inside', 'keep', 'inside', 'large', 'viewer', 'who', 'obscure', 'and', 'and', 'and', 'movie', 'of', 'and', 'entirely', \"you've\", 'see', 'because', 'you', 'deals', 'successful', 'her', 'anything', 'it', 'of', 'dedicated', 'and', 'hard', 'and', 'further', \"that's\", 'takes', 'as', 'with', 'by', 'br', 'of', 'and', 'in', 'minute', 'and', 'they', 'of', 'westerns', 'watch', 'seemed', 'and', \"it's\", 'lee', 'if', 'oh', 'this', 'japan', 'film', 'around', 'get', 'an', 'of', 'and', 'always', 'life', 'was', 'between', 'of', 'and', 'with', 'group', 'rate', 'code', \"film's\", 'was', 'although', 'of', 'arts', 'had', 'death', 'time', 'and', 'of', 'anyway', 'romantic', 'their', 'won', 'in', 'kevin', 'only', 'flying', \"it's\", 'and', 'only', 'cut', 'show', 'if', 'and', 'is', 'star', 'stay', 'movies', 'both', 'and', 'stay', 'and', 'of', 'music', 'of', 'tell', 'missing', 'they', 'of', 'here', 'really', 'me', 'we', 'value', 'some', 'silent', 'music', 'as', 'had', 'thought', 'and', 'realized', 'she', 'in', 'sorry', 'reasons', 'is', 'and', '10', 'this', 'of', 'and', 'shoots', 'if', 'average', 'remembered', 'in', 'at', 'is', 'over', 'worse', 'film', 'is', 'and', 'it', 'for', 'had', 'absolutely', 'in', 'naive', 'want', 'it', 'for', 'had', 'absolutely', 'in', 'j', 'want', 'it', 'for', 'had', 'back', 'for', 'it', 'absolutely', 'in', 'one', 'want', 'shots', 'has', 'that', 'movie', 'of', 'here', 'write', 'whatsoever', 'it', 'is', 'and', 'set', 'got', 'worse', 'of', 'where', 'and', 'once', 'for', 'of', 'accent', 'after', 'saw', 'she', 'film', 'of', 'rest', 'little', 'and', 'camera', 'if', 'best', 'way', 'elements', 'know', 'of', 'and', 'also', 'an', 'were', 'sense', 'or', 'in', 'realistic', 'actually', 'satan', \"he's\", 'score', 'br', 'any', 'himself', 'in', 'another', 'type', 'english', 'this', 'is', 'and', 'was', 'tom', 'for', 'dating', 'get', \"it's\", 'such', 'from', 'fantastic', 'will', 'pace', 'new', 'years', 'of', 'guy', 'game', 'in', 'murders', 'this', 'us', 'hard', 'lives', 'film', 'and', 'fact', 'that', 'out', 'end', 'is', 'getting', 'together', 'br', 'and', 'of', 'seen', 'in', 'of', 'jail', 'for', 'sees', 'utterly', 'it', 'meet', \"it's\", 'depth', 'is', 'had', 'do', 'you', 'for', 'was', 'rather', 'convince', 'in', 'why', 'last', 'very', 'has', 'i', 'i', 'throughout', 'never', 'keep', 'viewer', 'who', 'of', 'becoming', 'switch', 'and', 'entirely', 'music', 'even', 'interest', 'scene', 'music', 'is', 'far', 'br', 'voice', 'riveting', 'is', 'again', 'something', 'br', 'decent', 'and', 'she', 'this', 'is', 'shoots', 'not', 'director', 'have', 'against', 'people', 'they', 'line', 'cinematography', 'film', 'is', 'couples', 'br', 'and', 'and', 'is', 'and', 'of', 'you', 'it', 'sees', 'hero', \"he's\", 'if', \"can't\", 'is', 'time', 'husband', 'silly', 'and', 'result', 'music', 'image', 'sequences', \"it's\", 'chase', 'music', 'is', 'veteran', 'include', 'and', 'freeman', 'not', 'of', 'and', 'it', 'along', 'are', 'of', 'hearing', 'cutting', 'music', 'his', 'get', 'scene', 'but', 'of', 'fact', 'correct', 'i', 'i', 'means', 'this', 'and', 'this', 'blockbuster', 'as', 'there', 'for', 'disappointed', 'along', 'wrong', 'few', 'has', 'that', 'if', 'his', 'weird', 'way', 'not', 'girl', 'display', 'of', 'love', 'who', 'so', 'friendship', 'in', 'we', 'down', 'it', 'director', 'in', 'situation', 'line', 'has', 'was', 'big', 'why', 'was', 'your', 'supposed', 'last', 'but', 'especially', 'i', 'i', 'of', 'and', 'and', 'of', 'and', 'internet', 'br', 'never', 'give', 'theme', 'rest', 'or', 'really', 'that', 'best', 'and', 'release', 'in', 'for', 'so', 'multi', 'random', 'their', 'even', 'interest', 'is', 'judge', 'once', 'arts', 'like', 'have', 'then', 'own', 'is', 'and', 'has', 'have', 'one', 'is', 'you', 'for', 'off', 'his', 'dutch', 'we', 'they', 'an']\n",
            "--- Label ---\n",
            "0\n"
          ],
          "name": "stdout"
        }
      ]
    },
    {
      "metadata": {
        "id": "e2jpCpuQRpRk",
        "colab_type": "code",
        "colab": {}
      },
      "cell_type": "code",
      "source": [
        "from keras.preprocessing import sequence\n",
        "\n",
        "# Set the maximum number of words per document (for both training and testing)\n",
        "max_words = 500\n",
        "\n",
        "# TODO: Pad sequences in X_train and X_test\n",
        "X_train = sequence.pad_sequences(X_train, maxlen=max_words)\n",
        "X_test = sequence.pad_sequences(X_test, maxlen=max_words)"
      ],
      "execution_count": 0,
      "outputs": []
    },
    {
      "metadata": {
        "id": "dYrM7a_sRtos",
        "colab_type": "code",
        "colab": {
          "base_uri": "https://localhost:8080/",
          "height": 331
        },
        "outputId": "299321ba-48ee-4d77-baa9-83b8ee1f72a8"
      },
      "cell_type": "code",
      "source": [
        "from keras.models import Sequential\n",
        "from keras.layers import Embedding, LSTM, Dense, Dropout\n",
        "\n",
        "# TODO: Design your model\n",
        "embedding_size = 32\n",
        "model = Sequential()\n",
        "model.add(Embedding(vocabulary_size, embedding_size, input_length=max_words))\n",
        "model.add(LSTM(100))\n",
        "model.add(Dense(1, activation='sigmoid'))\n",
        "\n",
        "print(model.summary())"
      ],
      "execution_count": 44,
      "outputs": [
        {
          "output_type": "stream",
          "text": [
            "WARNING:tensorflow:From /usr/local/lib/python3.6/dist-packages/tensorflow/python/framework/op_def_library.py:263: colocate_with (from tensorflow.python.framework.ops) is deprecated and will be removed in a future version.\n",
            "Instructions for updating:\n",
            "Colocations handled automatically by placer.\n",
            "_________________________________________________________________\n",
            "Layer (type)                 Output Shape              Param #   \n",
            "=================================================================\n",
            "embedding_1 (Embedding)      (None, 500, 32)           160000    \n",
            "_________________________________________________________________\n",
            "lstm_1 (LSTM)                (None, 100)               53200     \n",
            "_________________________________________________________________\n",
            "dense_1 (Dense)              (None, 1)                 101       \n",
            "=================================================================\n",
            "Total params: 213,301\n",
            "Trainable params: 213,301\n",
            "Non-trainable params: 0\n",
            "_________________________________________________________________\n",
            "None\n"
          ],
          "name": "stdout"
        }
      ]
    },
    {
      "metadata": {
        "id": "F1GQ-pv_dg5j",
        "colab_type": "text"
      },
      "cell_type": "markdown",
      "source": [
        "##Train and evaluate your model\n",
        "Now you are ready to train your model. In Keras world, you first need to compile your model by specifying the loss function and optimizer you want to use while training, as well as any evaluation metrics you'd like to measure. Specify the approprate parameters, including at least one metric 'accuracy'.\n",
        "\n"
      ]
    },
    {
      "metadata": {
        "id": "jRh0XMu-RwHF",
        "colab_type": "code",
        "colab": {}
      },
      "cell_type": "code",
      "source": [
        "\n",
        "# TODO: Compile your model, specifying a loss function, optimizer, and metrics\n",
        "model.compile(loss='binary_crossentropy', optimizer='adam', metrics=['accuracy'])"
      ],
      "execution_count": 0,
      "outputs": []
    },
    {
      "metadata": {
        "id": "X9xAz1RddnDQ",
        "colab_type": "text"
      },
      "cell_type": "markdown",
      "source": [
        "Once compiled, you can kick off the training process. There are two important training parameters that you have to specify - batch size and number of training epochs, which together with your model architecture determine the total training time.\n",
        "\n",
        "Training may take a while, so grab a cup of coffee, or better, go for a hike! If possible, consider using a GPU, as a single training run can take several hours on a CPU."
      ]
    },
    {
      "metadata": {
        "id": "9iun00a8Rynb",
        "colab_type": "code",
        "colab": {
          "base_uri": "https://localhost:8080/",
          "height": 227
        },
        "outputId": "2de7a85a-ed4b-48be-d71c-1badc632d3d7"
      },
      "cell_type": "code",
      "source": [
        "#TODO: Specify training parameters: batch size and number of epochs\n",
        "batch_size = 64\n",
        "num_epochs = 3\n",
        "\n",
        "# TODO(optional): Reserve/specify some training data for validation (not to be used for training)\n",
        "X_valid, y_valid = X_train[:batch_size], y_train[:batch_size]  # first batch_size samples\n",
        "X_train2, y_train2 = X_train[batch_size:], y_train[batch_size:]  # rest for training\n",
        "\n",
        "# TODO: Train your model\n",
        "model.fit(X_train2, y_train2,\n",
        "          validation_data=(X_valid, y_valid),\n",
        "          batch_size=batch_size, epochs=num_epochs)\n"
      ],
      "execution_count": 47,
      "outputs": [
        {
          "output_type": "stream",
          "text": [
            "WARNING:tensorflow:From /usr/local/lib/python3.6/dist-packages/tensorflow/python/ops/math_ops.py:3066: to_int32 (from tensorflow.python.ops.math_ops) is deprecated and will be removed in a future version.\n",
            "Instructions for updating:\n",
            "Use tf.cast instead.\n",
            "Train on 24936 samples, validate on 64 samples\n",
            "Epoch 1/3\n",
            "24936/24936 [==============================] - 404s 16ms/step - loss: 0.4391 - acc: 0.7927 - val_loss: 0.1912 - val_acc: 0.9375\n",
            "Epoch 2/3\n",
            "24936/24936 [==============================] - 405s 16ms/step - loss: 0.2919 - acc: 0.8826 - val_loss: 0.2584 - val_acc: 0.8906\n",
            "Epoch 3/3\n",
            "24936/24936 [==============================] - 405s 16ms/step - loss: 0.2462 - acc: 0.9036 - val_loss: 0.2142 - val_acc: 0.9062\n"
          ],
          "name": "stdout"
        },
        {
          "output_type": "execute_result",
          "data": {
            "text/plain": [
              "<keras.callbacks.History at 0x7f91890270b8>"
            ]
          },
          "metadata": {
            "tags": []
          },
          "execution_count": 47
        }
      ]
    },
    {
      "metadata": {
        "id": "FYGWB3tWduoB",
        "colab_type": "text"
      },
      "cell_type": "markdown",
      "source": [
        "\n",
        "Once you have trained your model, it's time to see how well it performs on unseen test data."
      ]
    },
    {
      "metadata": {
        "id": "CzPdItuHSAj1",
        "colab_type": "code",
        "colab": {
          "base_uri": "https://localhost:8080/",
          "height": 35
        },
        "outputId": "9a63891e-a891-4049-cd1e-093f866edd47"
      },
      "cell_type": "code",
      "source": [
        "\n",
        "# Evaluate your model on the test set\n",
        "scores = model.evaluate(X_test, y_test, verbose=0)  # returns loss and other metrics specified in model.compile()\n",
        "print(\"Test accuracy:\", scores[1])  # scores[1] should correspond to accuracy if you passed in metrics=['accuracy']"
      ],
      "execution_count": 48,
      "outputs": [
        {
          "output_type": "stream",
          "text": [
            "Test accuracy: 0.86752\n"
          ],
          "name": "stdout"
        }
      ]
    },
    {
      "metadata": {
        "id": "nTMBraOWW74b",
        "colab_type": "code",
        "colab": {}
      },
      "cell_type": "code",
      "source": [
        ""
      ],
      "execution_count": 0,
      "outputs": []
    }
  ]
}