{
  "nbformat": 4,
  "nbformat_minor": 0,
  "metadata": {
    "colab": {
      "name": "Experiment_4.ipynb",
      "version": "0.3.2",
      "provenance": [],
      "collapsed_sections": [],
      "include_colab_link": true
    },
    "kernelspec": {
      "name": "python3",
      "display_name": "Python 3"
    },
    "accelerator": "GPU"
  },
  "cells": [
    {
      "cell_type": "markdown",
      "metadata": {
        "id": "view-in-github",
        "colab_type": "text"
      },
      "source": [
        "<a href=\"https://colab.research.google.com/github/chetansolanke14/machine_learning/blob/master/Experiment_4.ipynb\" target=\"_parent\"><img src=\"https://colab.research.google.com/assets/colab-badge.svg\" alt=\"Open In Colab\"/></a>"
      ]
    },
    {
      "metadata": {
        "id": "6xIyh39QmRM0",
        "colab_type": "text"
      },
      "cell_type": "markdown",
      "source": [
        "# Advanced Certification in AIML\n",
        "## A Program by IIIT-H and TalentSprint"
      ]
    },
    {
      "metadata": {
        "id": "DJUjlSvDmRM2",
        "colab_type": "text"
      },
      "cell_type": "markdown",
      "source": [
        "The objective of this experiment is to understand how data negatively impacts the performance of the model."
      ]
    },
    {
      "metadata": {
        "id": "uP33Anp5mRM3",
        "colab_type": "text"
      },
      "cell_type": "markdown",
      "source": [
        "In this experiment we will use famous Iris data set.This is perhaps the best known database to be found in the pattern recognition literature. Fisher's paper is a classic in the field and is referenced frequently to this day. \n",
        "\n",
        "The data set contains 3 classes of 50 instances each, where each class refers to a type of iris plant. One class is linearly separable from the other 2; the latter are NOT linearly separable from each other. "
      ]
    },
    {
      "metadata": {
        "id": "55uFsckRmRM4",
        "colab_type": "text"
      },
      "cell_type": "markdown",
      "source": [
        "#### Data Attributes\n",
        "\n",
        "  1. sepal length in cm \n",
        "  2. sepal width in cm \n",
        "  3. petal length in cm \n",
        "  4. petal width in cm \n",
        "  5. class: \n",
        "     -- Iris Setosa  \n",
        "     -- Iris Versicolour \n",
        "     -- Iris Virginica"
      ]
    },
    {
      "metadata": {
        "id": "greIuZ17mRM6",
        "colab_type": "text"
      },
      "cell_type": "markdown",
      "source": [
        "#### Overfitting\n",
        "\n",
        "Overfitting refers to a model that models the training data too well.\n",
        "\n",
        "Overfitting happens when a model learns the detail and noise in the training data to the extent that it negatively impacts the performance of the model on new data. This means that the noise or random fluctuations in the training data is picked up and learned as concepts by the model. "
      ]
    },
    {
      "metadata": {
        "id": "gEtmMHebmRM7",
        "colab_type": "text"
      },
      "cell_type": "markdown",
      "source": [
        "In this experiment we are going to use 2 features from Iris Dataset to Visualise Overfitting step by step.\n",
        "  1. Plot training error and Test error\n",
        "  2. Observe when the overfitting starts in the plot."
      ]
    },
    {
      "metadata": {
        "id": "DX9DQkQMmRM8",
        "colab_type": "text"
      },
      "cell_type": "markdown",
      "source": [
        "#### Keywords\n",
        "\n",
        "* Train and Test Error\n",
        "* Overfitting\n",
        "* Underfitting"
      ]
    },
    {
      "metadata": {
        "id": "sWY6KZ4Apl9M",
        "colab_type": "text"
      },
      "cell_type": "markdown",
      "source": [
        "#### Expected time : 30mins\n",
        "\n",
        "\n"
      ]
    },
    {
      "metadata": {
        "id": "t4eIDv4G6JzI",
        "colab_type": "code",
        "cellView": "form",
        "outputId": "60eae8ac-16fd-4fc1-8882-443f8141018f",
        "colab": {
          "base_uri": "https://localhost:8080/",
          "height": 320
        }
      },
      "cell_type": "code",
      "source": [
        "#@title Experiment Explanation Video\n",
        "from IPython.display import HTML\n",
        "\n",
        "HTML(\"\"\"<video width=\"500\" height=\"300\" controls>\n",
        "  <source src=\"https://cdn.talentsprint.com/talentsprint/archives/sc/aiml/aiml_2018_blr_b6/cfus/week_8/module_2_week_8_experment_4.mp4\" type=\"video/mp4\">\n",
        "</video>\n",
        "\"\"\")"
      ],
      "execution_count": 0,
      "outputs": [
        {
          "output_type": "execute_result",
          "data": {
            "text/html": [
              "<video width=\"500\" height=\"300\" controls>\n",
              "  <source src=\"https://cdn.talentsprint.com/talentsprint/archives/sc/aiml/aiml_2018_blr_b6/cfus/week_8/module_2_week_8_experment_4.mp4\" type=\"video/mp4\">\n",
              "</video>\n"
            ],
            "text/plain": [
              "<IPython.core.display.HTML object>"
            ]
          },
          "metadata": {
            "tags": []
          },
          "execution_count": 1
        }
      ]
    },
    {
      "metadata": {
        "id": "zrwIYJM3w9iu",
        "colab_type": "text"
      },
      "cell_type": "markdown",
      "source": [
        "### Setup Steps"
      ]
    },
    {
      "metadata": {
        "id": "hCAMzEc9w_78",
        "colab_type": "code",
        "colab": {}
      },
      "cell_type": "code",
      "source": [
        "#@title Please enter your registration id to start: (e.g. P181900101) { run: \"auto\", display-mode: \"form\" }\n",
        "Id = \"P181901451\" #@param {type:\"string\"}\n"
      ],
      "execution_count": 0,
      "outputs": []
    },
    {
      "metadata": {
        "id": "Mkso_4q0xCLS",
        "colab_type": "code",
        "colab": {}
      },
      "cell_type": "code",
      "source": [
        "#@title Please enter your password (normally your phone number) to continue: { run: \"auto\", display-mode: \"form\" }\n",
        "password = \"9822140781\" #@param {type:\"string\"}\n"
      ],
      "execution_count": 0,
      "outputs": []
    },
    {
      "metadata": {
        "id": "f-W3JOGWDqda",
        "colab_type": "code",
        "cellView": "form",
        "outputId": "937a0900-c97e-41fc-d2b3-4556379cecb4",
        "colab": {
          "base_uri": "https://localhost:8080/",
          "height": 35
        }
      },
      "cell_type": "code",
      "source": [
        "#@title Run this cell to complete the setup for this Notebook\n",
        "\n",
        "from IPython import get_ipython\n",
        "ipython = get_ipython()\n",
        "  \n",
        "notebook=\"BLR_M2W8_SAT_EXP_4\" #name of the notebook\n",
        "\n",
        "def setup():\n",
        "#  ipython.magic(\"sx pip3 install torch\")\n",
        "   \n",
        "   print (\"Setup completed successfully\")\n",
        "   return\n",
        "\n",
        "def submit_notebook():\n",
        "    \n",
        "    ipython.magic(\"notebook -e \"+ notebook + \".ipynb\")\n",
        "    \n",
        "    import requests, json, base64, datetime\n",
        "\n",
        "    url = \"https://dashboard.talentsprint.com/xp/app/save_notebook_attempts\"\n",
        "    if not submission_id:\n",
        "      data = {\"id\" : getId(), \"notebook\" : notebook, \"mobile\" : getPassword()}\n",
        "      r = requests.post(url, data = data)\n",
        "      r = json.loads(r.text)\n",
        "\n",
        "      if r[\"status\"] == \"Success\":\n",
        "          return r[\"record_id\"]\n",
        "      elif \"err\" in r:        \n",
        "        print(r[\"err\"])\n",
        "        return None        \n",
        "      else:\n",
        "        print (\"Something is wrong, the notebook will not be submitted for grading\")\n",
        "        return None\n",
        "\n",
        "    elif getComplexity() and getAdditional() and getConcepts():\n",
        "      f = open(notebook + \".ipynb\", \"rb\")\n",
        "      file_hash = base64.b64encode(f.read())\n",
        "\n",
        "      data = {\"complexity\" : Complexity, \"additional\" :Additional, \n",
        "              \"concepts\" : Concepts, \"record_id\" : submission_id, \n",
        "              \"id\" : Id, \"file_hash\" : file_hash, \"notebook\" : notebook}\n",
        "\n",
        "      r = requests.post(url, data = data)\n",
        "      print(\"Your submission is successful.\")\n",
        "      print(\"Ref Id:\", submission_id)\n",
        "      print(\"Date of submission: \", datetime.datetime.now().date().strftime(\"%d %b %Y\"))\n",
        "      print(\"Time of submission: \", datetime.datetime.now().time().strftime(\"%H:%M:%S\"))\n",
        "      print(\"View your submissions: https://iiith-aiml.talentsprint.com/notebook_submissions\")\n",
        "      print(\"For any queries/discrepancies, please connect with mentors through the chat icon in LMS dashboard.\")\n",
        "      return submission_id\n",
        "    else: submission_id\n",
        "    \n",
        "\n",
        "def getAdditional():\n",
        "  try:\n",
        "    if Additional: return Additional      \n",
        "    else: raise NameError('')\n",
        "  except NameError:\n",
        "    print (\"Please answer Additional Question\")\n",
        "    return None\n",
        "\n",
        "def getComplexity():\n",
        "  try:\n",
        "    return Complexity\n",
        "  except NameError:\n",
        "    print (\"Please answer Complexity Question\")\n",
        "    return None\n",
        "  \n",
        "def getConcepts():\n",
        "  try:\n",
        "    return Concepts\n",
        "  except NameError:\n",
        "    print (\"Please answer Concepts Question\")\n",
        "    return None\n",
        "\n",
        "def getId():\n",
        "  try: \n",
        "    return Id if Id else None\n",
        "  except NameError:\n",
        "    return None\n",
        "\n",
        "def getPassword():\n",
        "  try:\n",
        "    return password if password else None\n",
        "  except NameError:\n",
        "    return None\n",
        "\n",
        "submission_id = None\n",
        "### Setup \n",
        "if getPassword() and getId():\n",
        "  submission_id = submit_notebook()\n",
        "  if submission_id:\n",
        "    setup()\n",
        "  \n",
        "else:\n",
        "  print (\"Please complete Id and Password cells before running setup\")\n",
        "\n"
      ],
      "execution_count": 6,
      "outputs": [
        {
          "output_type": "stream",
          "text": [
            "Setup completed successfully\n"
          ],
          "name": "stdout"
        }
      ]
    },
    {
      "metadata": {
        "id": "Uw1L9WnXmRM-",
        "colab_type": "text"
      },
      "cell_type": "markdown",
      "source": [
        "#### Expected Time to complete the experiment : 30 mins"
      ]
    },
    {
      "metadata": {
        "id": "vJIVSBGRmRM-",
        "colab_type": "code",
        "colab": {}
      },
      "cell_type": "code",
      "source": [
        "## Importing required packages\n",
        "import pandas as pd\n",
        "import numpy as np\n",
        "import matplotlib.pyplot as plt\n",
        "from sklearn import datasets"
      ],
      "execution_count": 0,
      "outputs": []
    },
    {
      "metadata": {
        "id": "aTqx8magmRND",
        "colab_type": "text"
      },
      "cell_type": "markdown",
      "source": [
        "Loading the dataset from sklearn package"
      ]
    },
    {
      "metadata": {
        "id": "2V7pDlNEmRNF",
        "colab_type": "code",
        "colab": {}
      },
      "cell_type": "code",
      "source": [
        "# Loading iris dataset from sklearn\n",
        "iris = datasets.load_iris()\n",
        "## Storing only 2 features \n",
        "X = iris.data[:,(0,2)]\n",
        "## Storing the target data\n",
        "Y = iris.target"
      ],
      "execution_count": 0,
      "outputs": []
    },
    {
      "metadata": {
        "id": "0n1Vok-RmRNK",
        "colab_type": "text"
      },
      "cell_type": "markdown",
      "source": [
        "#### Exercise 1 \n",
        "\n",
        "Split the data into train,test and validation sets."
      ]
    },
    {
      "metadata": {
        "id": "fUWsU-QOmRNK",
        "colab_type": "code",
        "colab": {}
      },
      "cell_type": "code",
      "source": [
        "## Hint : you can use np.split\n",
        "X_train, X_test, X_validation = X[:int(0.8 * len(X))],X[int(0.8 * len(X)):],X[int(0.6 * len(X)):int(0.8 * len(X))]\n",
        "Y_train, Y_test, Y_validation = Y[:int(0.8 * len(Y))],Y[int(0.8 * len(Y)):],Y[int(0.6 * len(Y)):int(0.8 * len(Y))]"
      ],
      "execution_count": 0,
      "outputs": []
    },
    {
      "metadata": {
        "id": "F0qPFPeTmRNS",
        "colab_type": "code",
        "colab": {}
      },
      "cell_type": "code",
      "source": [
        "## Linear function\n",
        "def linf(m, x):\n",
        "    return np.matmul(x,m)\n",
        "\n",
        "def one_step(x, y, m, eta):\n",
        "    #Predicting the values\n",
        "    ypred = linf(m, x)\n",
        "    #Calculating the error\n",
        "    error = np.linalg.norm((y - ypred)**2)\n",
        "    #calculating the delta value\n",
        "    delta_m = -2*np.matmul(x.T,(y - ypred))\n",
        "    #updating m value\n",
        "    m = m - (delta_m * eta)\n",
        "    return m, error"
      ],
      "execution_count": 0,
      "outputs": []
    },
    {
      "metadata": {
        "id": "KkISDidXmRNW",
        "colab_type": "text"
      },
      "cell_type": "markdown",
      "source": [
        "#### Exercise 2 \n",
        "\n",
        "Calculate the test error"
      ]
    },
    {
      "metadata": {
        "id": "RwQMXWXjmRNX",
        "colab_type": "code",
        "colab": {
          "base_uri": "https://localhost:8080/",
          "height": 72
        },
        "outputId": "adc26eb1-318d-4ba7-c9b2-c50fcd7c7fe0"
      },
      "cell_type": "code",
      "source": [
        "num_feat = len(X_train[0]) \n",
        "#Intilizing the m value with random value\n",
        "m = np.random.uniform(-1,1,(num_feat+1,1))\n",
        "# Learning rate\n",
        "eta = 2e-4\n",
        "train_errs = []\n",
        "test_errs = []\n",
        "#reshaping the size of Y_test array\n",
        "Y_test = np.reshape(Y_test, (Y_test.shape[0],1))\n",
        "#reshaping the size of Y_train array\n",
        "Y_train = np.reshape(Y_train, (Y_train.shape[0],1))\n",
        "## adding additional ones to X_train and X_test arrays\n",
        "X_train=np.hstack( (X_train,np.ones((X_train.shape[0],1)))) \n",
        "X_test=np.hstack( (X_test,np.ones((X_test.shape[0],1)))) \n",
        "\n",
        "for times in range(50):\n",
        "    ## Calling the function\n",
        "    m, error = one_step(X_train, Y_train, m, eta)\n",
        "    if times%1==0:\n",
        "        # appending the trained error to train_errs\n",
        "        train_errs.append(error)\n",
        "        # Calculating the test errors and appending them to test_errs\n",
        "        test_errs.append(error)\n",
        "print(\"Test Error :\",test_errs)\n",
        "print(\"Train Error :\",train_errs)"
      ],
      "execution_count": 15,
      "outputs": [
        {
          "output_type": "stream",
          "text": [
            "Test Error : [996.4054147843065, 1396.6487754417278, 2413.54318216213, 3587.594625013233, 5989.61014993665, 9192.630759415913, 15033.900143846256, 23473.565763988474, 37941.78330269086, 59792.18978487919, 96017.3566895951, 152071.7494029489, 243328.68559674677, 386428.46919229557, 617105.0877149439, 981462.1500455508, 1565658.47983302, 2492057.3350162036, 3973082.1645393022, 6326689.134244297, 10083425.345585737, 16060491.884910284, 25592676.099849116, 40768196.7090659, 64958795.836101875, 103484061.18996617, 164880066.84075823, 262675537.9169675, 418506899.83103716, 666749448.2813898, 1062280954.893549, 1692403882.7036793, 2696357086.2807837, 4295803977.087406, 6844095813.954431, 10903964139.633312, 17372211520.056793, 27677325156.461006, 44095505319.69743, 70252806949.04999, 111926684145.02892, 178321280830.48392, 284101157763.77106, 452629266421.57776, 721128061884.0883, 1148899575188.46, 1830424423762.1335, 2916228141450.1313, 4646128477195.294, 7402201778330.213]\n",
            "Train Error : [996.4054147843065, 1396.6487754417278, 2413.54318216213, 3587.594625013233, 5989.61014993665, 9192.630759415913, 15033.900143846256, 23473.565763988474, 37941.78330269086, 59792.18978487919, 96017.3566895951, 152071.7494029489, 243328.68559674677, 386428.46919229557, 617105.0877149439, 981462.1500455508, 1565658.47983302, 2492057.3350162036, 3973082.1645393022, 6326689.134244297, 10083425.345585737, 16060491.884910284, 25592676.099849116, 40768196.7090659, 64958795.836101875, 103484061.18996617, 164880066.84075823, 262675537.9169675, 418506899.83103716, 666749448.2813898, 1062280954.893549, 1692403882.7036793, 2696357086.2807837, 4295803977.087406, 6844095813.954431, 10903964139.633312, 17372211520.056793, 27677325156.461006, 44095505319.69743, 70252806949.04999, 111926684145.02892, 178321280830.48392, 284101157763.77106, 452629266421.57776, 721128061884.0883, 1148899575188.46, 1830424423762.1335, 2916228141450.1313, 4646128477195.294, 7402201778330.213]\n"
          ],
          "name": "stdout"
        }
      ]
    },
    {
      "metadata": {
        "id": "ULb02yYamRNb",
        "colab_type": "code",
        "colab": {
          "base_uri": "https://localhost:8080/",
          "height": 358
        },
        "outputId": "a45ef23f-ae9c-4f28-ecf5-07d2408ccf8e"
      },
      "cell_type": "code",
      "source": [
        "## Plotting the train_errs and test_errs\n",
        "plt.plot(train_errs)\n",
        "plt.plot(test_errs)\n",
        "plt.legend([\"Train\",\"Test\"])\n",
        "plt.show()"
      ],
      "execution_count": 17,
      "outputs": [
        {
          "output_type": "display_data",
          "data": {
            "image/png": "[encoded data removed]",
            "text/plain": [
              "<matplotlib.figure.Figure at 0x7fe8489e0f60>"
            ]
          },
          "metadata": {
            "tags": []
          }
        }
      ]
    },
    {
      "metadata": {
        "id": "fntpaqXlmRNf",
        "colab_type": "code",
        "colab": {
          "base_uri": "https://localhost:8080/",
          "height": 86
        },
        "outputId": "ee635efa-88dc-4275-b5ff-172ee0191498"
      },
      "cell_type": "code",
      "source": [
        "print('\\nMinimum Training Error occurs at {} degrees.'.format(int(np.argmin(train_errs))))\n",
        "print('Minimum Testing Error occurs at {} degrees.\\n'.format(int(np.argmin(test_errs))))"
      ],
      "execution_count": 18,
      "outputs": [
        {
          "output_type": "stream",
          "text": [
            "\n",
            "Minimum Training Error occurs at 0 degrees.\n",
            "Minimum Testing Error occurs at 0 degrees.\n",
            "\n"
          ],
          "name": "stdout"
        }
      ]
    },
    {
      "metadata": {
        "id": "VzsA48TDmRNk",
        "colab_type": "text"
      },
      "cell_type": "markdown",
      "source": [
        "#### Exercise 3\n",
        "\n",
        "Vary the train ,test and validation ratios and observe how overfitting changes."
      ]
    },
    {
      "metadata": {
        "id": "dq7SRKxnKk9d",
        "colab_type": "code",
        "colab": {
          "base_uri": "https://localhost:8080/",
          "height": 471
        },
        "outputId": "f353ce58-5065-4444-a400-6c91d29afc62"
      },
      "cell_type": "code",
      "source": [
        "#### Your code here\n",
        "X_train, X_test, X_validation = X[:int(0.7 * len(X))],X[int(0.7 * len(X)):],X[int(0.6 * len(X)):int(0.7 * len(X))]\n",
        "Y_train, Y_test, Y_validation = Y[:int(0.7 * len(Y))],Y[int(0.7 * len(Y)):],Y[int(0.6 * len(Y)):int(0.7 * len(Y))]\n",
        "\n",
        "num_feat = len(X_train[0]) \n",
        "#Intilizing the m value with random value\n",
        "m = np.random.uniform(-1,1,(num_feat+1,1))\n",
        "# Learning rate\n",
        "eta = 2e-4\n",
        "train_errs = []\n",
        "test_errs = []\n",
        "#reshaping the size of Y_test array\n",
        "Y_test = np.reshape(Y_test, (Y_test.shape[0],1))\n",
        "#reshaping the size of Y_train array\n",
        "Y_train = np.reshape(Y_train, (Y_train.shape[0],1))\n",
        "## adding additional ones to X_train and X_test arrays\n",
        "X_train=np.hstack( (X_train,np.ones((X_train.shape[0],1)))) \n",
        "X_test=np.hstack( (X_test,np.ones((X_test.shape[0],1)))) \n",
        "\n",
        "for times in range(50):\n",
        "    ## Calling the function\n",
        "    m, error = one_step(X_train, Y_train, m, eta)\n",
        "    if times%1==0:\n",
        "        # appending the trained error to train_errs\n",
        "        train_errs.append(error)\n",
        "        # Calculating the test errors and appending them to test_errs\n",
        "        test_errs.append(error)\n",
        "print(\"Test Error :\",test_errs)\n",
        "print(\"Train Error :\",train_errs)\n",
        "\n",
        "plt.plot(train_errs)\n",
        "plt.plot(test_errs)\n",
        "plt.legend([\"Train\",\"Test\"])\n",
        "plt.show()\n",
        "\n",
        "print('\\nMinimum Training Error occurs at {} degrees.'.format(int(np.argmin(train_errs))))\n",
        "print('Minimum Testing Error occurs at {} degrees.\\n'.format(int(np.argmin(test_errs))))"
      ],
      "execution_count": 23,
      "outputs": [
        {
          "output_type": "stream",
          "text": [
            "Test Error : [70.26358208802583, 39.818485060173856, 24.649701420509736, 13.867900084338567, 9.142268374107433, 5.112453518702941, 3.8288765577215558, 2.109602261823641, 1.946758802589277, 1.0411536981265723, 1.2180479952573287, 0.6706723374534052, 0.9018864427507068, 0.572574730219026, 0.7539990319530969, 0.5634672093986532, 0.681728081885375, 0.5733024647217148, 0.6448043192451213, 0.5830667231418245, 0.6248959426505684, 0.5894785398122533, 0.6135146236935843, 0.5929905850261714, 0.6066118085672375, 0.594573665198978, 0.6021723583802697, 0.5950041379315967, 0.5991470103275922, 0.5947937195559897, 0.5969670172254434, 0.5942536820148544, 0.5953135789192885, 0.5935648950970996, 0.5940028065906235, 0.5928287542954154, 0.5929257427276996, 0.5920998839985258, 0.5920159792093826, 0.5914060093082001, 0.5912317210555587, 0.5907596861635056, 0.5905456651695025, 0.5901651062387873, 0.5899392077006188, 0.5896219957412601, 0.5893990886601308, 0.5891278237618423, 0.5889154250313018, 0.5886790362591866]\n",
            "Train Error : [70.26358208802583, 39.818485060173856, 24.649701420509736, 13.867900084338567, 9.142268374107433, 5.112453518702941, 3.8288765577215558, 2.109602261823641, 1.946758802589277, 1.0411536981265723, 1.2180479952573287, 0.6706723374534052, 0.9018864427507068, 0.572574730219026, 0.7539990319530969, 0.5634672093986532, 0.681728081885375, 0.5733024647217148, 0.6448043192451213, 0.5830667231418245, 0.6248959426505684, 0.5894785398122533, 0.6135146236935843, 0.5929905850261714, 0.6066118085672375, 0.594573665198978, 0.6021723583802697, 0.5950041379315967, 0.5991470103275922, 0.5947937195559897, 0.5969670172254434, 0.5942536820148544, 0.5953135789192885, 0.5935648950970996, 0.5940028065906235, 0.5928287542954154, 0.5929257427276996, 0.5920998839985258, 0.5920159792093826, 0.5914060093082001, 0.5912317210555587, 0.5907596861635056, 0.5905456651695025, 0.5901651062387873, 0.5899392077006188, 0.5896219957412601, 0.5893990886601308, 0.5891278237618423, 0.5889154250313018, 0.5886790362591866]\n"
          ],
          "name": "stdout"
        },
        {
          "output_type": "display_data",
          "data": {
            "image/png": "[encoded data removed]",
            "text/plain": [
              "<matplotlib.figure.Figure at 0x7fe848a1aac8>"
            ]
          },
          "metadata": {
            "tags": []
          }
        },
        {
          "output_type": "stream",
          "text": [
            "\n",
            "Minimum Training Error occurs at 15 degrees.\n",
            "Minimum Testing Error occurs at 15 degrees.\n",
            "\n"
          ],
          "name": "stdout"
        }
      ]
    },
    {
      "metadata": {
        "id": "mf7H7kNw3StG",
        "colab_type": "code",
        "colab": {
          "base_uri": "https://localhost:8080/",
          "height": 482
        },
        "outputId": "2ba8ec4f-d07f-4465-e0ee-256d56345e52"
      },
      "cell_type": "code",
      "source": [
        "X_train, X_test, X_validation = X[:int(0.9 * len(X))],X[int(0.9 * len(X)):],X[int(0.8 * len(X)):int(0.9 * len(X))]\n",
        "Y_train, Y_test, Y_validation = Y[:int(0.9 * len(Y))],Y[int(0.9 * len(Y)):],Y[int(0.8 * len(Y)):int(0.9 * len(Y))]\n",
        "\n",
        "num_feat = len(X_train[0]) \n",
        "#Intilizing the m value with random value\n",
        "m = np.random.uniform(-1,1,(num_feat+1,1))\n",
        "# Learning rate\n",
        "eta = 2e-4\n",
        "train_errs = []\n",
        "test_errs = []\n",
        "#reshaping the size of Y_test array\n",
        "Y_test = np.reshape(Y_test, (Y_test.shape[0],1))\n",
        "#reshaping the size of Y_train array\n",
        "Y_train = np.reshape(Y_train, (Y_train.shape[0],1))\n",
        "## adding additional ones to X_train and X_test arrays\n",
        "X_train=np.hstack( (X_train,np.ones((X_train.shape[0],1)))) \n",
        "X_test=np.hstack( (X_test,np.ones((X_test.shape[0],1)))) \n",
        "\n",
        "for times in range(50):\n",
        "    ## Calling the function\n",
        "    m, error = one_step(X_train, Y_train, m, eta)\n",
        "    if times%1==0:\n",
        "        # appending the trained error to train_errs\n",
        "        train_errs.append(error)\n",
        "        # Calculating the test errors and appending them to test_errs\n",
        "        test_errs.append(error)\n",
        "print(\"Test Error :\",test_errs)\n",
        "print(\"Train Error :\",train_errs)\n",
        "\n",
        "plt.plot(train_errs)\n",
        "plt.plot(test_errs)\n",
        "plt.legend([\"Train\",\"Test\"])\n",
        "plt.show()\n",
        "\n",
        "print('\\nMinimum Training Error occurs at {} degrees.'.format(int(np.argmin(train_errs))))\n",
        "print('Minimum Testing Error occurs at {} degrees.\\n'.format(int(np.argmin(test_errs))))"
      ],
      "execution_count": 24,
      "outputs": [
        {
          "output_type": "stream",
          "text": [
            "Test Error : [300.9391545673336, 668.9731056154584, 2053.9205736010504, 5389.733358346358, 15644.190407988179, 43074.98127415446, 122270.24072610307, 341380.14950997446, 962017.8550736653, 2697195.2327064243, 7583572.614718483, 21288963.62602741, 59815349.4935814, 167981707.01062697, 471874962.5943912, 1325341923.4375196, 3722753776.0367427, 10456374500.383396, 29370325504.98303, 82495529481.23969, 231715651737.38028, 650846394070.6869, 1828111337851.073, 5134831847070.555, 14422817765884.914, 40511081511774.234, 113788311202727.19, 319610777064262.75, 897728899848418.8, 2521558116217848.5, 7082600837298741.0, 1.9893744966670064e+16, 5.587793244537763e+16, 1.5695100794546662e+17, 4.408470009602533e+17, 1.2382595092136448e+18, 3.478047054012372e+18, 9.769205256629754e+18, 2.7439931052919603e+19, 7.707380450574143e+19, 2.1648638000589944e+20, 6.080710953281756e+20, 1.7079617524593236e+21, 4.797355720829149e+21, 1.3474904739007772e+22, 3.784857081508897e+22, 1.0630979145992732e+23, 2.9860498076565174e+23, 8.387273957892268e+23, 2.3558335920704565e+24]\n",
            "Train Error : [300.9391545673336, 668.9731056154584, 2053.9205736010504, 5389.733358346358, 15644.190407988179, 43074.98127415446, 122270.24072610307, 341380.14950997446, 962017.8550736653, 2697195.2327064243, 7583572.614718483, 21288963.62602741, 59815349.4935814, 167981707.01062697, 471874962.5943912, 1325341923.4375196, 3722753776.0367427, 10456374500.383396, 29370325504.98303, 82495529481.23969, 231715651737.38028, 650846394070.6869, 1828111337851.073, 5134831847070.555, 14422817765884.914, 40511081511774.234, 113788311202727.19, 319610777064262.75, 897728899848418.8, 2521558116217848.5, 7082600837298741.0, 1.9893744966670064e+16, 5.587793244537763e+16, 1.5695100794546662e+17, 4.408470009602533e+17, 1.2382595092136448e+18, 3.478047054012372e+18, 9.769205256629754e+18, 2.7439931052919603e+19, 7.707380450574143e+19, 2.1648638000589944e+20, 6.080710953281756e+20, 1.7079617524593236e+21, 4.797355720829149e+21, 1.3474904739007772e+22, 3.784857081508897e+22, 1.0630979145992732e+23, 2.9860498076565174e+23, 8.387273957892268e+23, 2.3558335920704565e+24]\n"
          ],
          "name": "stdout"
        },
        {
          "output_type": "display_data",
          "data": {
            "image/png": "[encoded data removed]",
            "text/plain": [
              "<matplotlib.figure.Figure at 0x7fe8460eecc0>"
            ]
          },
          "metadata": {
            "tags": []
          }
        },
        {
          "output_type": "stream",
          "text": [
            "\n",
            "Minimum Training Error occurs at 0 degrees.\n",
            "Minimum Testing Error occurs at 0 degrees.\n",
            "\n"
          ],
          "name": "stdout"
        }
      ]
    },
    {
      "metadata": {
        "id": "OOA_GAp-3b95",
        "colab_type": "code",
        "colab": {
          "base_uri": "https://localhost:8080/",
          "height": 471
        },
        "outputId": "ca25bbf6-e234-4a61-a79b-8cf38d65e896"
      },
      "cell_type": "code",
      "source": [
        "X_train, X_test, X_validation = X[:int(0.7 * len(X))],X[int(0.7 * len(X)):],X[int(0.6 * len(X)):int(0.7 * len(X))]\n",
        "Y_train, Y_test, Y_validation = Y[:int(0.7 * len(Y))],Y[int(0.7 * len(Y)):],Y[int(0.6 * len(Y)):int(0.7 * len(Y))]\n",
        "\n",
        "num_feat = len(X_train[0]) \n",
        "#Intilizing the m value with random value\n",
        "m = np.random.uniform(-1,1,(num_feat+1,1))\n",
        "# Learning rate\n",
        "eta = 2e-4\n",
        "train_errs = []\n",
        "test_errs = []\n",
        "#reshaping the size of Y_test array\n",
        "Y_test = np.reshape(Y_test, (Y_test.shape[0],1))\n",
        "#reshaping the size of Y_train array\n",
        "Y_train = np.reshape(Y_train, (Y_train.shape[0],1))\n",
        "## adding additional ones to X_train and X_test arrays\n",
        "X_train=np.hstack( (X_train,np.ones((X_train.shape[0],1)))) \n",
        "X_test=np.hstack( (X_test,np.ones((X_test.shape[0],1)))) \n",
        "\n",
        "for times in range(50):\n",
        "    ## Calling the function\n",
        "    m, error = one_step(X_train, Y_train, m, eta)\n",
        "    if times%1==0:\n",
        "        # appending the trained error to train_errs\n",
        "        train_errs.append(error)\n",
        "        # Calculating the test errors and appending them to test_errs\n",
        "        test_errs.append(error)\n",
        "print(\"Test Error :\",test_errs)\n",
        "print(\"Train Error :\",train_errs)\n",
        "\n",
        "plt.plot(train_errs)\n",
        "plt.plot(test_errs)\n",
        "plt.legend([\"Train\",\"Test\"])\n",
        "plt.show()\n",
        "\n",
        "print('\\nMinimum Training Error occurs at {} degrees.'.format(int(np.argmin(train_errs))))\n",
        "print('Minimum Testing Error occurs at {} degrees.\\n'.format(int(np.argmin(test_errs))))"
      ],
      "execution_count": 26,
      "outputs": [
        {
          "output_type": "stream",
          "text": [
            "Test Error : [283.9935992641944, 137.7563386179076, 111.28057385893051, 54.692277954137786, 47.576088103659174, 25.253521114712328, 22.76338969868615, 13.534212183626906, 12.470906581750903, 8.281279846273385, 7.911610118778437, 5.753231022534235, 5.6979996419141585, 4.441493217740495, 4.4646710437081065, 3.664192310422389, 3.668644283846354, 3.1284199584491024, 3.096132268248615, 2.717559005787577, 2.657822079157914, 2.3849236343438296, 2.3109657034653237, 2.1093539001320436, 2.031373468729647, 1.878958056160866, 1.8033112510279865, 1.6855451952141152, 1.6156095554710195, 1.522757329747164, 1.4599594357821233, 1.3854143132057957, 1.330028225061097, 1.269239417179711, 1.2209219532310913, 1.1707004453061634, 1.1288210809708061, 1.0868877727607242, 1.050718622532995, 1.0154091381906676, 0.9842265538140168, 0.9542975934745984, 0.9274310111846868, 0.9019325465125504, 0.8787835255501264, 0.8569737511448362, 0.8370192290798978, 0.8183073682676012, 0.8010953146582165, 0.7850026642083832]\n",
            "Train Error : [283.9935992641944, 137.7563386179076, 111.28057385893051, 54.692277954137786, 47.576088103659174, 25.253521114712328, 22.76338969868615, 13.534212183626906, 12.470906581750903, 8.281279846273385, 7.911610118778437, 5.753231022534235, 5.6979996419141585, 4.441493217740495, 4.4646710437081065, 3.664192310422389, 3.668644283846354, 3.1284199584491024, 3.096132268248615, 2.717559005787577, 2.657822079157914, 2.3849236343438296, 2.3109657034653237, 2.1093539001320436, 2.031373468729647, 1.878958056160866, 1.8033112510279865, 1.6855451952141152, 1.6156095554710195, 1.522757329747164, 1.4599594357821233, 1.3854143132057957, 1.330028225061097, 1.269239417179711, 1.2209219532310913, 1.1707004453061634, 1.1288210809708061, 1.0868877727607242, 1.050718622532995, 1.0154091381906676, 0.9842265538140168, 0.9542975934745984, 0.9274310111846868, 0.9019325465125504, 0.8787835255501264, 0.8569737511448362, 0.8370192290798978, 0.8183073682676012, 0.8010953146582165, 0.7850026642083832]\n"
          ],
          "name": "stdout"
        },
        {
          "output_type": "display_data",
          "data": {
            "image/png": "[encoded data removed]",
            "text/plain": [
              "<matplotlib.figure.Figure at 0x7fe845fe1048>"
            ]
          },
          "metadata": {
            "tags": []
          }
        },
        {
          "output_type": "stream",
          "text": [
            "\n",
            "Minimum Training Error occurs at 49 degrees.\n",
            "Minimum Testing Error occurs at 49 degrees.\n",
            "\n"
          ],
          "name": "stdout"
        }
      ]
    },
    {
      "metadata": {
        "id": "N_WaQzaxxVQC",
        "colab_type": "text"
      },
      "cell_type": "markdown",
      "source": [
        "### Please answer the questions below to complete the experiment:\n",
        "\n",
        "\n"
      ]
    },
    {
      "metadata": {
        "id": "Ka501u2PmRNm",
        "colab_type": "code",
        "colab": {}
      },
      "cell_type": "code",
      "source": [
        "#@title How was the experiment? { run: \"auto\", form-width: \"500px\", display-mode: \"form\" }\n",
        "Complexity = \"Good and Challenging me\" #@param [\"Too Simple, I am wasting time\", \"Good, But Not Challenging for me\", \"Good and Challenging me\", \"Was Tough, but I did it\", \"Too Difficult for me\"]\n"
      ],
      "execution_count": 0,
      "outputs": []
    },
    {
      "metadata": {
        "id": "bXBC1ha5xc8E",
        "colab_type": "code",
        "colab": {}
      },
      "cell_type": "code",
      "source": [
        "#@title If it was very easy, what more you would have liked to have been added? If it was very difficult, what would you have liked to have been removed? { run: \"auto\", display-mode: \"form\" }\n",
        "Additional = \"test\" #@param {type:\"string\"}"
      ],
      "execution_count": 0,
      "outputs": []
    },
    {
      "metadata": {
        "id": "AWIHOhj-xeVJ",
        "colab_type": "code",
        "colab": {}
      },
      "cell_type": "code",
      "source": [
        "#@title Can you identify the concepts from the lecture which this experiment covered? { run: \"auto\", vertical-output: true, display-mode: \"form\" }\n",
        "Concepts = \"Yes\" #@param [\"Yes\", \"No\"]"
      ],
      "execution_count": 0,
      "outputs": []
    },
    {
      "metadata": {
        "id": "lU1e9ywNxhdp",
        "colab_type": "code",
        "cellView": "form",
        "outputId": "178c4c67-f609-49fc-b9ae-b229d2143e92",
        "colab": {
          "base_uri": "https://localhost:8080/",
          "height": 121
        }
      },
      "cell_type": "code",
      "source": [
        "#@title Run this cell to submit your notebook for grading { vertical-output: true }\n",
        "try:\n",
        "  if submission_id:\n",
        "      return_id = submit_notebook()\n",
        "      if return_id : submission_id =return_id\n",
        "  else:\n",
        "      print(\"Please complete the setup first.\")\n",
        "except NameError:\n",
        "  print (\"Please complete the setup first.\")"
      ],
      "execution_count": 30,
      "outputs": [
        {
          "output_type": "stream",
          "text": [
            "Your submission is successful.\n",
            "Ref Id: 8305\n",
            "Date of submission:  05 Jan 2019\n",
            "Time of submission:  11:55:36\n",
            "View your submissions: https://iiith-aiml.talentsprint.com/notebook_submissions\n",
            "For any queries/discrepancies, please connect with mentors through the chat icon in LMS dashboard.\n"
          ],
          "name": "stdout"
        }
      ]
    },
    {
      "metadata": {
        "id": "Xq7RTLS-aa5o",
        "colab_type": "code",
        "colab": {}
      },
      "cell_type": "code",
      "source": [
        ""
      ],
      "execution_count": 0,
      "outputs": []
    }
  ]
}